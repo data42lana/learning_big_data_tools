{
  "nbformat": 4,
  "nbformat_minor": 0,
  "metadata": {
    "colab": {
      "provenance": []
    },
    "kernelspec": {
      "name": "python3",
      "display_name": "Python 3"
    }
  },
  "cells": [
    {
      "cell_type": "markdown",
      "source": [
        "**Objective**: to learn the PySpark (SQL module) tools by analyzing the structure and data of a big dataset.\n",
        "\n",
        "**Data:** World Development Indicators, The World Bank ([sourse](https://datacatalog.worldbank.org/dataset/world-development-indicators))."
      ],
      "metadata": {
        "id": "flstToWnjjVl"
      }
    },
    {
      "cell_type": "markdown",
      "source": [
        "## 1. Setup"
      ],
      "metadata": {
        "id": "CsE14giDcYnA"
      }
    },
    {
      "cell_type": "markdown",
      "source": [
        "### 1.1. Installing dependencies\n"
      ],
      "metadata": {
        "id": "7sZtC3Mc59f8"
      }
    },
    {
      "cell_type": "code",
      "source": [
        "# Install pyspark to use Spark\n",
        "!pip install -q pyspark"
      ],
      "metadata": {
        "id": "k4AFiR3w1T-7"
      },
      "execution_count": 71,
      "outputs": []
    },
    {
      "cell_type": "code",
      "execution_count": 72,
      "source": [
        "# Mount Google Drive \n",
        "from google.colab import drive\n",
        "drive.mount('/content/drive')"
      ],
      "outputs": [
        {
          "output_type": "stream",
          "name": "stdout",
          "text": [
            "Drive already mounted at /content/drive; to attempt to forcibly remount, call drive.mount(\"/content/drive\", force_remount=True).\n"
          ]
        }
      ],
      "metadata": {
        "id": "9R0LfZCqf_yO",
        "colab": {
          "base_uri": "https://localhost:8080/"
        },
        "outputId": "033f022c-1b74-4828-d91f-515f871d8b3a"
      }
    },
    {
      "cell_type": "markdown",
      "source": [
        "### 1.2. Import of modules required for operation"
      ],
      "metadata": {
        "id": "IJWpZsNh68Ey"
      }
    },
    {
      "cell_type": "code",
      "execution_count": 73,
      "source": [
        "from pyspark.sql import SparkSession\n",
        "import pyspark.sql.functions as F\n",
        "from pyspark.sql import Window\n",
        "from pyspark.sql.types import DecimalType"
      ],
      "outputs": [],
      "metadata": {
        "id": "1EIK7IJtdMKf"
      }
    },
    {
      "cell_type": "code",
      "execution_count": 74,
      "source": [
        "# Create a SparkSession\n",
        "spark = (SparkSession.builder\n",
        "                     .master('local') \n",
        "                     .appName(\"WDI Analysis\") \n",
        "                     .getOrCreate())"
      ],
      "outputs": [],
      "metadata": {
        "id": "593qFfBDj9J9"
      }
    },
    {
      "cell_type": "markdown",
      "source": [
        "## 2. Load and view the structure of files with data"
      ],
      "metadata": {
        "id": "sXAvQNZ3dLu4"
      }
    },
    {
      "cell_type": "markdown",
      "source": [
        "For the analysis, we will to use one main data file (\"WDIData\") and combine it with some columns from two other files (\"WDICountry\" and \"WDISeries\"), which refine the information about countries and indicators, respectively. \n",
        "\n",
        "\n",
        "Let's create a function that will output the size and schema of DataFrames, and consider each of the files separately."
      ],
      "metadata": {
        "id": "rEFUrYTPsZb9"
      }
    },
    {
      "cell_type": "code",
      "execution_count": 75,
      "source": [
        "def show_size_shema(df):\n",
        "    \"\"\"Show the size and schema of a DataFrame.\"\"\"\n",
        "    print(\"Rows: {0}, columns: {1}\".format(df.count(), len(df.columns)))\n",
        "    df.printSchema()"
      ],
      "outputs": [],
      "metadata": {
        "id": "heLjkn9Q0bEv"
      }
    },
    {
      "cell_type": "markdown",
      "source": [
        "> *WDI is an acronym for World Development Indicators.*\n"
      ],
      "metadata": {
        "id": "KSCR_P5Q2WzX"
      }
    },
    {
      "cell_type": "markdown",
      "source": [
        "### 2.1. The \"WDIData\" file"
      ],
      "metadata": {
        "id": "3K7Qw2pA8MBx"
      }
    },
    {
      "cell_type": "code",
      "execution_count": 76,
      "source": [
        "# Create a WDI DataFrame\n",
        "wdi_path = '/content/drive/MyDrive/Colab_Notebooks/WDI_Project/WDI_csv/WDIData.csv'\n",
        "df_wdi = spark.read.csv(wdi_path, inferSchema=True, header=True)"
      ],
      "outputs": [],
      "metadata": {
        "id": "bCcUcbt0kHEX"
      }
    },
    {
      "cell_type": "code",
      "execution_count": 77,
      "source": [
        "show_size_shema(df_wdi)"
      ],
      "outputs": [
        {
          "output_type": "stream",
          "name": "stdout",
          "text": [
            "Rows: 380160, columns: 66\n",
            "root\n",
            " |-- Country Name: string (nullable = true)\n",
            " |-- Country Code: string (nullable = true)\n",
            " |-- Indicator Name: string (nullable = true)\n",
            " |-- Indicator Code: string (nullable = true)\n",
            " |-- 1960: double (nullable = true)\n",
            " |-- 1961: double (nullable = true)\n",
            " |-- 1962: double (nullable = true)\n",
            " |-- 1963: double (nullable = true)\n",
            " |-- 1964: double (nullable = true)\n",
            " |-- 1965: double (nullable = true)\n",
            " |-- 1966: double (nullable = true)\n",
            " |-- 1967: double (nullable = true)\n",
            " |-- 1968: double (nullable = true)\n",
            " |-- 1969: double (nullable = true)\n",
            " |-- 1970: double (nullable = true)\n",
            " |-- 1971: double (nullable = true)\n",
            " |-- 1972: double (nullable = true)\n",
            " |-- 1973: double (nullable = true)\n",
            " |-- 1974: double (nullable = true)\n",
            " |-- 1975: double (nullable = true)\n",
            " |-- 1976: double (nullable = true)\n",
            " |-- 1977: double (nullable = true)\n",
            " |-- 1978: double (nullable = true)\n",
            " |-- 1979: double (nullable = true)\n",
            " |-- 1980: double (nullable = true)\n",
            " |-- 1981: double (nullable = true)\n",
            " |-- 1982: double (nullable = true)\n",
            " |-- 1983: double (nullable = true)\n",
            " |-- 1984: double (nullable = true)\n",
            " |-- 1985: double (nullable = true)\n",
            " |-- 1986: double (nullable = true)\n",
            " |-- 1987: double (nullable = true)\n",
            " |-- 1988: double (nullable = true)\n",
            " |-- 1989: double (nullable = true)\n",
            " |-- 1990: double (nullable = true)\n",
            " |-- 1991: double (nullable = true)\n",
            " |-- 1992: double (nullable = true)\n",
            " |-- 1993: double (nullable = true)\n",
            " |-- 1994: double (nullable = true)\n",
            " |-- 1995: double (nullable = true)\n",
            " |-- 1996: double (nullable = true)\n",
            " |-- 1997: double (nullable = true)\n",
            " |-- 1998: double (nullable = true)\n",
            " |-- 1999: double (nullable = true)\n",
            " |-- 2000: double (nullable = true)\n",
            " |-- 2001: double (nullable = true)\n",
            " |-- 2002: double (nullable = true)\n",
            " |-- 2003: double (nullable = true)\n",
            " |-- 2004: double (nullable = true)\n",
            " |-- 2005: double (nullable = true)\n",
            " |-- 2006: double (nullable = true)\n",
            " |-- 2007: double (nullable = true)\n",
            " |-- 2008: double (nullable = true)\n",
            " |-- 2009: double (nullable = true)\n",
            " |-- 2010: double (nullable = true)\n",
            " |-- 2011: double (nullable = true)\n",
            " |-- 2012: double (nullable = true)\n",
            " |-- 2013: double (nullable = true)\n",
            " |-- 2014: double (nullable = true)\n",
            " |-- 2015: double (nullable = true)\n",
            " |-- 2016: double (nullable = true)\n",
            " |-- 2017: double (nullable = true)\n",
            " |-- 2018: double (nullable = true)\n",
            " |-- 2019: double (nullable = true)\n",
            " |-- 2020: double (nullable = true)\n",
            " |-- _c65: string (nullable = true)\n",
            "\n"
          ]
        }
      ],
      "metadata": {
        "id": "spqarqFDuw6d",
        "collapsed": true,
        "colab": {
          "base_uri": "https://localhost:8080/"
        },
        "outputId": "225e3a8e-f8d3-4d17-e208-265987f13f5d"
      }
    },
    {
      "cell_type": "code",
      "execution_count": 78,
      "source": [
        "# Show the first 5 rows of the DataFrame in tabular form\n",
        "df_wdi.select(df_wdi.columns[:7] + df_wdi.columns[-5:]).show(5)"
      ],
      "outputs": [
        {
          "output_type": "stream",
          "name": "stdout",
          "text": [
            "+------------+------------+--------------------+-----------------+----+----+----+----------------+----------------+----+----+----+\n",
            "|Country Name|Country Code|      Indicator Name|   Indicator Code|1960|1961|1962|            2017|            2018|2019|2020|_c65|\n",
            "+------------+------------+--------------------+-----------------+----+----+----+----------------+----------------+----+----+----+\n",
            "|  Arab World|         ARB|Access to clean f...|   EG.CFT.ACCS.ZS|null|null|null|            null|            null|null|null|null|\n",
            "|  Arab World|         ARB|Access to electri...|   EG.ELC.ACCS.ZS|null|null|null|90.2836375587196| 89.286856223316|null|null|null|\n",
            "|  Arab World|         ARB|Access to electri...|EG.ELC.ACCS.RU.ZS|null|null|null|81.1021335972971|79.2481000553718|null|null|null|\n",
            "|  Arab World|         ARB|Access to electri...|EG.ELC.ACCS.UR.ZS|null|null|null|97.4679148475457|97.0639592990141|null|null|null|\n",
            "|  Arab World|         ARB|Account ownership...|   FX.OWN.TOTL.ZS|null|null|null| 37.165210723877|            null|null|null|null|\n",
            "+------------+------------+--------------------+-----------------+----+----+----+----------------+----------------+----+----+----+\n",
            "only showing top 5 rows\n",
            "\n"
          ]
        }
      ],
      "metadata": {
        "id": "xf05-1_rA6HN",
        "colab": {
          "base_uri": "https://localhost:8080/"
        },
        "outputId": "b5e74994-e44e-494b-d279-6296c6884d48"
      }
    },
    {
      "cell_type": "markdown",
      "source": [
        "We can see that our first (main) DataFrame (file) contains information about the values of indicators by country and year, and in the \"Country\" column there are not only the names of countries but also more general values. For simplicity, in the future we will call them all \"countries\", i.e. by the name of the column.\n",
        "\n",
        "Let's see how many different countries and indicators there are in the DataFrame."
      ],
      "metadata": {
        "id": "ZrQVD_jo4JG8"
      }
    },
    {
      "cell_type": "code",
      "execution_count": 79,
      "source": [
        "df_wdi.select('Country Code').distinct().count()"
      ],
      "outputs": [
        {
          "output_type": "execute_result",
          "data": {
            "text/plain": [
              "264"
            ]
          },
          "metadata": {},
          "execution_count": 79
        }
      ],
      "metadata": {
        "id": "8XRcgwIf2fvX",
        "colab": {
          "base_uri": "https://localhost:8080/"
        },
        "outputId": "ac13a5c9-47c6-489c-e5fe-f868ce9405be"
      }
    },
    {
      "cell_type": "markdown",
      "source": [
        "According to the overview of the datasets on the source site, the number of economies in it is 217, which means that 47 country names are not countries in themselves, but some generalized or other names."
      ],
      "metadata": {
        "id": "vs9P_6pCLPR-"
      }
    },
    {
      "cell_type": "code",
      "execution_count": 80,
      "source": [
        "df_wdi.select('Indicator Code').distinct().count()"
      ],
      "outputs": [
        {
          "output_type": "execute_result",
          "data": {
            "text/plain": [
              "1440"
            ]
          },
          "metadata": {},
          "execution_count": 80
        }
      ],
      "metadata": {
        "id": "vEZfg0jI4o39",
        "colab": {
          "base_uri": "https://localhost:8080/"
        },
        "outputId": "20a3cf85-599d-40e6-db12-b8248cd520f3"
      }
    },
    {
      "cell_type": "markdown",
      "source": [
        "### 2.2. The \"WDICountry\" file"
      ],
      "metadata": {
        "id": "ZHcECL7W5dpq"
      }
    },
    {
      "cell_type": "code",
      "execution_count": 81,
      "source": [
        "# Create a DataFrame of countries\n",
        "country_path = '/content/drive/MyDrive/Colab_Notebooks/WDI_Project/WDI_csv/WDICountry.csv'\n",
        "df_country = spark.read.csv(\n",
        "    country_path, inferSchema=True, header=True, multiLine=True)"
      ],
      "outputs": [],
      "metadata": {
        "id": "AIABSY4T-LDA"
      }
    },
    {
      "cell_type": "code",
      "execution_count": 82,
      "source": [
        "show_size_shema(df_country)"
      ],
      "outputs": [
        {
          "output_type": "stream",
          "name": "stdout",
          "text": [
            "Rows: 263, columns: 31\n",
            "root\n",
            " |-- Country Code: string (nullable = true)\n",
            " |-- Short Name: string (nullable = true)\n",
            " |-- Table Name: string (nullable = true)\n",
            " |-- Long Name: string (nullable = true)\n",
            " |-- 2-alpha code: string (nullable = true)\n",
            " |-- Currency Unit: string (nullable = true)\n",
            " |-- Special Notes: string (nullable = true)\n",
            " |-- Region: string (nullable = true)\n",
            " |-- Income Group: string (nullable = true)\n",
            " |-- WB-2 code: string (nullable = true)\n",
            " |-- National accounts base year: string (nullable = true)\n",
            " |-- National accounts reference year: integer (nullable = true)\n",
            " |-- SNA price valuation: string (nullable = true)\n",
            " |-- Lending category: string (nullable = true)\n",
            " |-- Other groups: string (nullable = true)\n",
            " |-- System of National Accounts: string (nullable = true)\n",
            " |-- Alternative conversion factor: string (nullable = true)\n",
            " |-- PPP survey year: string (nullable = true)\n",
            " |-- Balance of Payments Manual in use: string (nullable = true)\n",
            " |-- External debt Reporting status: string (nullable = true)\n",
            " |-- System of trade: string (nullable = true)\n",
            " |-- Government Accounting concept: string (nullable = true)\n",
            " |-- IMF data dissemination standard: string (nullable = true)\n",
            " |-- Latest population census: string (nullable = true)\n",
            " |-- Latest household survey: string (nullable = true)\n",
            " |-- Source of most recent Income and expenditure data: string (nullable = true)\n",
            " |-- Vital registration complete: string (nullable = true)\n",
            " |-- Latest agricultural census: string (nullable = true)\n",
            " |-- Latest industrial data: integer (nullable = true)\n",
            " |-- Latest trade data: integer (nullable = true)\n",
            " |-- _c30: string (nullable = true)\n",
            "\n"
          ]
        }
      ],
      "metadata": {
        "id": "q0H22D8M6Gdc",
        "collapsed": true,
        "colab": {
          "base_uri": "https://localhost:8080/"
        },
        "outputId": "8df2f55d-38b7-49fd-c45e-697fd28384a2"
      }
    },
    {
      "cell_type": "markdown",
      "source": [
        "We can see that this DataFrame (file) contains various clarifying information about countries.\n",
        "\n",
        "Let's check how many countries are indicated in it."
      ],
      "metadata": {
        "id": "GC8ww772-kTH"
      }
    },
    {
      "cell_type": "code",
      "execution_count": 83,
      "source": [
        "df_country.select('Country Code').distinct().count()"
      ],
      "outputs": [
        {
          "output_type": "execute_result",
          "data": {
            "text/plain": [
              "263"
            ]
          },
          "metadata": {},
          "execution_count": 83
        }
      ],
      "metadata": {
        "id": "c8EgxQI--O9Y",
        "colab": {
          "base_uri": "https://localhost:8080/"
        },
        "outputId": "907da03e-0f9b-45d7-e767-32d0e8303a04"
      }
    },
    {
      "cell_type": "markdown",
      "source": [
        "The number is also greater than 217, which means that, as in the previous DataFrame, it contains information not only about the countries themselves but also in some other form."
      ],
      "metadata": {
        "id": "NXOesEKD6A9C"
      }
    },
    {
      "cell_type": "code",
      "execution_count": 84,
      "source": [
        "# Show the last 7 rows of the DataFrame as a list of Rows\n",
        "df_country.select('Country Code', 'Short Name').tail(7)"
      ],
      "outputs": [
        {
          "output_type": "execute_result",
          "data": {
            "text/plain": [
              "[Row(Country Code='WLD', Short Name='World'),\n",
              " Row(Country Code='WSM', Short Name='Samoa'),\n",
              " Row(Country Code='XKX', Short Name='Kosovo'),\n",
              " Row(Country Code='YEM', Short Name='Yemen'),\n",
              " Row(Country Code='ZAF', Short Name='South Africa'),\n",
              " Row(Country Code='ZMB', Short Name='Zambia'),\n",
              " Row(Country Code='ZWE', Short Name='Zimbabwe')]"
            ]
          },
          "metadata": {},
          "execution_count": 84
        }
      ],
      "metadata": {
        "id": "qFaqsVa6cPIA",
        "colab": {
          "base_uri": "https://localhost:8080/"
        },
        "outputId": "6e80468e-ff4c-4fcf-d361-3b13ce166c6e"
      }
    },
    {
      "cell_type": "markdown",
      "source": [
        "Even from the list shown, we can see that the dataset also contains information about common regions that unite several countries."
      ],
      "metadata": {
        "id": "ydT7lXuedmdJ"
      }
    },
    {
      "cell_type": "markdown",
      "source": [
        "### 2.3. The \"WDISeries\" file"
      ],
      "metadata": {
        "id": "ZHSIm1a6_HFz"
      }
    },
    {
      "cell_type": "code",
      "execution_count": 85,
      "source": [
        "# Create a DataFrame of indicators (series)\n",
        "series_path = '/content/drive/MyDrive/Colab_Notebooks/WDI_Project/WDI_csv/WDISeries.csv'\n",
        "df_series = spark.read.csv(\n",
        "    series_path, inferSchema=True, header=True, multiLine=True, escape=\"\\\"\")"
      ],
      "outputs": [],
      "metadata": {
        "id": "3BtCAzXW_SBn"
      }
    },
    {
      "cell_type": "code",
      "execution_count": 86,
      "source": [
        "show_size_shema(df_series)"
      ],
      "outputs": [
        {
          "output_type": "stream",
          "name": "stdout",
          "text": [
            "Rows: 1440, columns: 21\n",
            "root\n",
            " |-- Series Code: string (nullable = true)\n",
            " |-- Topic: string (nullable = true)\n",
            " |-- Indicator Name: string (nullable = true)\n",
            " |-- Short definition: string (nullable = true)\n",
            " |-- Long definition: string (nullable = true)\n",
            " |-- Unit of measure: string (nullable = true)\n",
            " |-- Periodicity: string (nullable = true)\n",
            " |-- Base Period: string (nullable = true)\n",
            " |-- Other notes: string (nullable = true)\n",
            " |-- Aggregation method: string (nullable = true)\n",
            " |-- Limitations and exceptions: string (nullable = true)\n",
            " |-- Notes from original source: string (nullable = true)\n",
            " |-- General comments: string (nullable = true)\n",
            " |-- Source: string (nullable = true)\n",
            " |-- Statistical concept and methodology: string (nullable = true)\n",
            " |-- Development relevance: string (nullable = true)\n",
            " |-- Related source links: string (nullable = true)\n",
            " |-- Other web links: string (nullable = true)\n",
            " |-- Related indicators: string (nullable = true)\n",
            " |-- License Type: string (nullable = true)\n",
            " |-- _c20: string (nullable = true)\n",
            "\n"
          ]
        }
      ],
      "metadata": {
        "id": "poPNqj9g_quh",
        "colab": {
          "base_uri": "https://localhost:8080/"
        },
        "outputId": "9cb14deb-dfbd-4152-e917-37a211c7c1ae"
      }
    },
    {
      "cell_type": "markdown",
      "source": [
        "We can see that this DataFrame (file) contains various clarifying information about indicators."
      ],
      "metadata": {
        "id": "lQpIgn-18aAr"
      }
    },
    {
      "cell_type": "code",
      "execution_count": 87,
      "source": [
        "df_series.select('Series Code').distinct().count()"
      ],
      "outputs": [
        {
          "output_type": "execute_result",
          "data": {
            "text/plain": [
              "1440"
            ]
          },
          "metadata": {},
          "execution_count": 87
        }
      ],
      "metadata": {
        "id": "NQlYNRaFET7m",
        "colab": {
          "base_uri": "https://localhost:8080/"
        },
        "outputId": "54004705-6ade-4f4a-e292-bf02d4df20fe"
      }
    },
    {
      "cell_type": "markdown",
      "source": [
        "The number of unique indicators is the same as the number in the WDI DataFrame."
      ],
      "metadata": {
        "id": "pKrhDe6yElC1"
      }
    },
    {
      "cell_type": "code",
      "execution_count": 88,
      "source": [
        "# Show the first 5 rows of the DataFrame without truncation \n",
        "df_series.select('Indicator Name', 'Topic').show(5, False)"
      ],
      "outputs": [
        {
          "output_type": "stream",
          "name": "stdout",
          "text": [
            "+-------------------------------------------------------------+------------------------------------+\n",
            "|Indicator Name                                               |Topic                               |\n",
            "+-------------------------------------------------------------+------------------------------------+\n",
            "|Agricultural machinery, tractors                             |Environment: Agricultural production|\n",
            "|Fertilizer consumption (% of fertilizer production)          |Environment: Agricultural production|\n",
            "|Fertilizer consumption (kilograms per hectare of arable land)|Environment: Agricultural production|\n",
            "|Agricultural land (sq. km)                                   |Environment: Land use               |\n",
            "|Agricultural land (% of land area)                           |Environment: Land use               |\n",
            "+-------------------------------------------------------------+------------------------------------+\n",
            "only showing top 5 rows\n",
            "\n"
          ]
        }
      ],
      "metadata": {
        "id": "zbTVd8k9EPqa",
        "colab": {
          "base_uri": "https://localhost:8080/"
        },
        "outputId": "575488ce-10fd-4d76-c592-dd63c303d496"
      }
    },
    {
      "cell_type": "markdown",
      "source": [
        "### 2.4. Preparing to merge the DataFrames"
      ],
      "metadata": {
        "id": "oqT8pUjfzk8e"
      }
    },
    {
      "cell_type": "markdown",
      "source": [
        "To clarify the available data on countries and indicators in the WDI DataFrame, we will add additional information from the \"Region\" and \"Income Group\" columns of the DataFrame of countries and the \"Topic\" column of the DataFrame of indicators. \n",
        "\n",
        "Let's see what data is contained in these selected columns.\n"
      ],
      "metadata": {
        "id": "y291VRAC-sx7"
      }
    },
    {
      "cell_type": "code",
      "execution_count": 89,
      "source": [
        "df_country.select('Region', 'Income Group').show(7, False)"
      ],
      "outputs": [
        {
          "output_type": "stream",
          "name": "stdout",
          "text": [
            "+--------------------------+-------------------+\n",
            "|Region                    |Income Group       |\n",
            "+--------------------------+-------------------+\n",
            "|Latin America & Caribbean |High income        |\n",
            "|South Asia                |Low income         |\n",
            "|Sub-Saharan Africa        |Lower middle income|\n",
            "|Europe & Central Asia     |Upper middle income|\n",
            "|Europe & Central Asia     |High income        |\n",
            "|null                      |null               |\n",
            "|Middle East & North Africa|High income        |\n",
            "+--------------------------+-------------------+\n",
            "only showing top 7 rows\n",
            "\n"
          ]
        }
      ],
      "metadata": {
        "id": "mOCNQVUHzjCj",
        "colab": {
          "base_uri": "https://localhost:8080/"
        },
        "outputId": "70b241bc-8ff7-409b-9d37-9ea3ca7f3d74"
      }
    },
    {
      "cell_type": "code",
      "execution_count": 90,
      "source": [
        "df_series.select('Topic').limit(5).collect()"
      ],
      "outputs": [
        {
          "output_type": "execute_result",
          "data": {
            "text/plain": [
              "[Row(Topic='Environment: Agricultural production'),\n",
              " Row(Topic='Environment: Agricultural production'),\n",
              " Row(Topic='Environment: Agricultural production'),\n",
              " Row(Topic='Environment: Land use'),\n",
              " Row(Topic='Environment: Land use')]"
            ]
          },
          "metadata": {},
          "execution_count": 90
        }
      ],
      "metadata": {
        "id": "wV-AMw-ebBO6",
        "colab": {
          "base_uri": "https://localhost:8080/"
        },
        "outputId": "46701cbf-7039-431d-d9e7-57c9325b3ce1"
      }
    },
    {
      "cell_type": "markdown",
      "source": [
        "The \"Region\" and \"Income Group\" contain information about the region and an income group to which each country belongs, and the \"Topic\" column contains information about the topics to which each indicator belongs.\n",
        "\n",
        "As we saw earlier, the number of countries in the WDI DataFrame and the DataFrame of countries is not the same. First, let's see what this mismatched value is. To compare the data, we will use the \"Country Code\" column, which is present in both of these DataFrames."
      ],
      "metadata": {
        "id": "L3jFgtkpmJ0Z"
      }
    },
    {
      "cell_type": "code",
      "execution_count": 91,
      "source": [
        "# View the number of country names contained in both of these DataFrames \n",
        "# (with the removal of duplicates)\n",
        "df_wdi.select('Country Code').intersect(\n",
        "    df_country.select('Country Code')).count()"
      ],
      "outputs": [
        {
          "output_type": "execute_result",
          "data": {
            "text/plain": [
              "263"
            ]
          },
          "metadata": {},
          "execution_count": 91
        }
      ],
      "metadata": {
        "id": "EFzbGt4X_Oma",
        "colab": {
          "base_uri": "https://localhost:8080/"
        },
        "outputId": "b0d420fd-52dd-45b2-fcbd-b377db80a23d"
      }
    },
    {
      "cell_type": "code",
      "execution_count": 92,
      "source": [
        "# View a country code that is in the WDI DataFrame but is not in the Dataframe \n",
        "# of countries (without the removal of duplicates)\n",
        "(df_wdi.select('Country Code').distinct()\n",
        "    .exceptAll(df_country.select('Country Code')).show())"
      ],
      "outputs": [
        {
          "output_type": "stream",
          "name": "stdout",
          "text": [
            "+------------+\n",
            "|Country Code|\n",
            "+------------+\n",
            "|         INX|\n",
            "+------------+\n",
            "\n"
          ]
        }
      ],
      "metadata": {
        "id": "Tz2YlsVM_L_B",
        "colab": {
          "base_uri": "https://localhost:8080/"
        },
        "outputId": "9a5219eb-455d-48d5-ef30-9281867f16ef"
      }
    },
    {
      "cell_type": "code",
      "execution_count": 93,
      "source": [
        "# View what values in other columns\n",
        "df_wdi.where(F.col('Country Code') == 'INX').select(df_wdi.columns[:7]).show(5)"
      ],
      "outputs": [
        {
          "output_type": "stream",
          "name": "stdout",
          "text": [
            "+--------------+------------+--------------------+-----------------+----+----+----+\n",
            "|  Country Name|Country Code|      Indicator Name|   Indicator Code|1960|1961|1962|\n",
            "+--------------+------------+--------------------+-----------------+----+----+----+\n",
            "|Not classified|         INX|Access to clean f...|   EG.CFT.ACCS.ZS|null|null|null|\n",
            "|Not classified|         INX|Access to electri...|   EG.ELC.ACCS.ZS|null|null|null|\n",
            "|Not classified|         INX|Access to electri...|EG.ELC.ACCS.RU.ZS|null|null|null|\n",
            "|Not classified|         INX|Access to electri...|EG.ELC.ACCS.UR.ZS|null|null|null|\n",
            "|Not classified|         INX|Account ownership...|   FX.OWN.TOTL.ZS|null|null|null|\n",
            "+--------------+------------+--------------------+-----------------+----+----+----+\n",
            "only showing top 5 rows\n",
            "\n"
          ]
        }
      ],
      "metadata": {
        "id": "EFjCRPYrTmsD",
        "colab": {
          "base_uri": "https://localhost:8080/"
        },
        "outputId": "2d5293d8-b6ad-40d1-dcfa-7ebbd00f2154"
      }
    },
    {
      "cell_type": "code",
      "execution_count": 94,
      "source": [
        "# Count the number of rows with values in the annual columns \n",
        "# by deleting all empty rows in them\n",
        "(df_wdi.where(F.col('Country Code') == 'INX')\n",
        "       .dropna('all', subset=df_wdi.columns[4:])\n",
        "       .select('*').count())"
      ],
      "outputs": [
        {
          "output_type": "execute_result",
          "data": {
            "text/plain": [
              "0"
            ]
          },
          "metadata": {},
          "execution_count": 94
        }
      ],
      "metadata": {
        "id": "joGJ7XsliD9k",
        "colab": {
          "base_uri": "https://localhost:8080/"
        },
        "outputId": "136b9575-5b29-4c68-8aff-5ac1aedd81b4"
      }
    },
    {
      "cell_type": "markdown",
      "source": [
        "The country code that is added to the WDI DataFrame does not have any indicator values, so we can delete all rows with the country code value \"INX\".\n",
        "\n",
        "Let's check if there are missing values in the \"Region\", \"Income Group\", \"Topic\" columns and why they are empty."
      ],
      "metadata": {
        "id": "32K1bTP-h7vv"
      }
    },
    {
      "cell_type": "code",
      "execution_count": 95,
      "source": [
        "# Count the number of missing values\n",
        "for ncols in ['Region', 'Income Group']:\n",
        "    print(f\"Missing values in '{ncols}': \", df_country.where(df_country[ncols].isNull()).count())\n",
        "print(\"Missing values in 'Topic': \", df_series.where(df_series['Topic'].isNull()).count())"
      ],
      "outputs": [
        {
          "output_type": "stream",
          "name": "stdout",
          "text": [
            "Missing values in 'Region':  46\n",
            "Missing values in 'Income Group':  46\n",
            "Missing values in 'Topic':  13\n"
          ]
        }
      ],
      "metadata": {
        "id": "52ezGIQKr3yg",
        "colab": {
          "base_uri": "https://localhost:8080/"
        },
        "outputId": "737b57eb-d3dd-47cf-89b5-acbfed773418"
      }
    },
    {
      "cell_type": "code",
      "execution_count": 96,
      "source": [
        "# See how many countries do not have values in the \"Region\" \n",
        "# and \"Income Group\" columns\n",
        "(df_country\n",
        "    .filter(df_country['Income Group'].isNull() | df_country['Region'].isNull())\n",
        "    .select('Country Code')\n",
        "    .distinct()\n",
        "    .count())"
      ],
      "outputs": [
        {
          "output_type": "execute_result",
          "data": {
            "text/plain": [
              "46"
            ]
          },
          "metadata": {},
          "execution_count": 96
        }
      ],
      "metadata": {
        "id": "r9OeW35WvDix",
        "colab": {
          "base_uri": "https://localhost:8080/"
        },
        "outputId": "b9ed7991-e42a-4c40-95ad-bde24321b76d"
      }
    },
    {
      "cell_type": "code",
      "execution_count": 97,
      "source": [
        "# Show the names of these countries\n",
        "(df_country\n",
        "    .filter(df_country['Region'].isNull())\n",
        "    .select('Short Name', 'Country Code')\n",
        "    .distinct()\n",
        "    .collect())"
      ],
      "outputs": [
        {
          "output_type": "execute_result",
          "data": {
            "text/plain": [
              "[Row(Short Name='Euro area', Country Code='EMU'),\n",
              " Row(Short Name='Low income', Country Code='LIC'),\n",
              " Row(Short Name='Middle East & North Africa', Country Code='MEA'),\n",
              " Row(Short Name='Least developed countries: UN classification', Country Code='LDC'),\n",
              " Row(Short Name='Middle East & North Africa (excluding high income)', Country Code='MNA'),\n",
              " Row(Short Name='Middle East & North Africa (IDA & IBRD)', Country Code='TMN'),\n",
              " Row(Short Name='Europe & Central Asia (excluding high income)', Country Code='ECA'),\n",
              " Row(Short Name='East Asia & Pacific (IDA & IBRD)', Country Code='TEA'),\n",
              " Row(Short Name='IDA total', Country Code='IDA'),\n",
              " Row(Short Name='Middle income', Country Code='MIC'),\n",
              " Row(Short Name='Arab World', Country Code='ARB'),\n",
              " Row(Short Name='Latin America & Caribbean (excluding high income)', Country Code='LAC'),\n",
              " Row(Short Name='Sub-Saharan Africa (excluding high income)', Country Code='SSA'),\n",
              " Row(Short Name='Pacific island small states', Country Code='PSS'),\n",
              " Row(Short Name='IBRD only', Country Code='IBD'),\n",
              " Row(Short Name='Sub-Saharan Africa', Country Code='SSF'),\n",
              " Row(Short Name='High income', Country Code='HIC'),\n",
              " Row(Short Name='Late-demographic dividend', Country Code='LTE'),\n",
              " Row(Short Name='Other small states', Country Code='OSS'),\n",
              " Row(Short Name='Latin America & Caribbean', Country Code='LCN'),\n",
              " Row(Short Name='East Asia & Pacific (excluding high income)', Country Code='EAP'),\n",
              " Row(Short Name='North America', Country Code='NAC'),\n",
              " Row(Short Name='IDA blend', Country Code='IDB'),\n",
              " Row(Short Name='South Asia', Country Code='SAS'),\n",
              " Row(Short Name='European Union', Country Code='EUU'),\n",
              " Row(Short Name='Fragile and conflict affected situations', Country Code='FCS'),\n",
              " Row(Short Name='Latin America & Caribbean (IDA & IBRD)', Country Code='TLA'),\n",
              " Row(Short Name='Caribbean small states', Country Code='CSS'),\n",
              " Row(Short Name='South Asia (IDA & IBRD)', Country Code='TSA'),\n",
              " Row(Short Name='Sub-Saharan Africa (IDA & IBRD)', Country Code='TSS'),\n",
              " Row(Short Name='Lower middle income', Country Code='LMC'),\n",
              " Row(Short Name='Upper middle income', Country Code='UMC'),\n",
              " Row(Short Name='IDA only', Country Code='IDX'),\n",
              " Row(Short Name='Small states', Country Code='SST'),\n",
              " Row(Short Name='Pre-demographic dividend', Country Code='PRE'),\n",
              " Row(Short Name='Heavily indebted poor countries (HIPC)', Country Code='HPC'),\n",
              " Row(Short Name='Central Europe and the Baltics', Country Code='CEB'),\n",
              " Row(Short Name='Europe & Central Asia (IDA & IBRD)', Country Code='TEC'),\n",
              " Row(Short Name='Post-demographic dividend', Country Code='PST'),\n",
              " Row(Short Name='OECD members', Country Code='OED'),\n",
              " Row(Short Name='World', Country Code='WLD'),\n",
              " Row(Short Name='East Asia & Pacific', Country Code='EAS'),\n",
              " Row(Short Name='Europe & Central Asia', Country Code='ECS'),\n",
              " Row(Short Name='IDA & IBRD total', Country Code='IBT'),\n",
              " Row(Short Name='Early-demographic dividend', Country Code='EAR'),\n",
              " Row(Short Name='Low & middle income', Country Code='LMY')]"
            ]
          },
          "metadata": {},
          "execution_count": 97
        }
      ],
      "metadata": {
        "id": "Z2V4YZA-1krG",
        "collapsed": true,
        "colab": {
          "base_uri": "https://localhost:8080/"
        },
        "outputId": "1c517dba-327f-45f9-eb95-5d0f7453985d"
      }
    },
    {
      "cell_type": "markdown",
      "source": [
        "As we assumed earlier, the \"Country Code\" column of DataFrame of countries, and therefore the \"Country Name\" column of the WDI DataFrame, includes not only the names of the countries themselves, but also the names of regions, groups of countries by their income, and much more.\n",
        "\n",
        "Since we decided to change the original dataset by adding the names of regions and income groups as columns, we can delete this data in the row view, except for the values \"World\", by filling in the missing values in the corresponding columns \"Region\" and \"Income group\" with the word \"World\".\n"
      ],
      "metadata": {
        "id": "5P6eBMo495Ns"
      }
    },
    {
      "cell_type": "code",
      "execution_count": 98,
      "source": [
        "# Add rows with filled in missing values for the \"World\"\n",
        "df_country_w = (df_country\n",
        "                .unionByName(df_country\n",
        "                                .filter(df_country['Country Code'] == 'WLD')\n",
        "                                .fillna({'Region': 'World', \n",
        "                                         'Income group': 'World'})))"
      ],
      "outputs": [],
      "metadata": {
        "id": "-VPACjVWQwN3"
      }
    },
    {
      "cell_type": "code",
      "execution_count": 99,
      "source": [
        "(df_country_w\n",
        "    .filter(df_country_w['Country Code'] == 'WLD')\n",
        "    .select('Country Code', 'Region')\n",
        "    .show())"
      ],
      "outputs": [
        {
          "output_type": "stream",
          "name": "stdout",
          "text": [
            "+------------+------+\n",
            "|Country Code|Region|\n",
            "+------------+------+\n",
            "|         WLD|  null|\n",
            "|         WLD| World|\n",
            "+------------+------+\n",
            "\n"
          ]
        }
      ],
      "metadata": {
        "id": "DJ4sj4pkH6TG",
        "colab": {
          "base_uri": "https://localhost:8080/"
        },
        "outputId": "8453bd91-7c31-4bad-c207-790e6cf9b4c5"
      }
    },
    {
      "cell_type": "markdown",
      "source": [
        "We will join the WDI and DataFrames of indicators by matching the \"Indicator Code\" and \"Series Code\" columns. Let's check if they have the same values.\n"
      ],
      "metadata": {
        "id": "jwsd5O63hhDa"
      }
    },
    {
      "cell_type": "code",
      "execution_count": 100,
      "source": [
        "(df_wdi.select('Indicator Code')\n",
        "    .distinct()\n",
        "    .intersect(df_series.select('Series Code'))\n",
        "    .count())"
      ],
      "outputs": [
        {
          "output_type": "execute_result",
          "data": {
            "text/plain": [
              "1440"
            ]
          },
          "metadata": {},
          "execution_count": 100
        }
      ],
      "metadata": {
        "id": "KGZjE21-iAMy",
        "colab": {
          "base_uri": "https://localhost:8080/"
        },
        "outputId": "0c3629b1-399c-49bb-b083-83102a24505a"
      }
    },
    {
      "cell_type": "markdown",
      "source": [
        "In the WDI DataFrame, there is a column \"_c65\", the name of which does not mean anything to us. Let's see if it contains any values at all.\n",
        "\n"
      ],
      "metadata": {
        "id": "AEQQB8O_0Ira"
      }
    },
    {
      "cell_type": "code",
      "execution_count": 101,
      "source": [
        "df_wdi.filter(df_wdi['_c65'].isNotNull()).count()"
      ],
      "outputs": [
        {
          "output_type": "execute_result",
          "data": {
            "text/plain": [
              "0"
            ]
          },
          "metadata": {},
          "execution_count": 101
        }
      ],
      "metadata": {
        "id": "ClHJVe46mzL0",
        "colab": {
          "base_uri": "https://localhost:8080/"
        },
        "outputId": "a812e315-bfc4-4a43-a963-6ffe4a21ec40"
      }
    },
    {
      "cell_type": "markdown",
      "source": [
        "This column doesn't contain any values, so it's just an empty column with no name, which means we can just delete it."
      ],
      "metadata": {
        "id": "B31J269QoBo1"
      }
    },
    {
      "cell_type": "markdown",
      "source": [
        "### 2.5. Сombining the DataFrames"
      ],
      "metadata": {
        "id": "Qbr8ZebuoDmJ"
      }
    },
    {
      "cell_type": "markdown",
      "source": [
        "After reviewing the columns we need and matching the data in the join columns, we will combine everything together, dropping the columns with missing values, and filling in the missing values in the \"Topic\" column with the word \"Unknown\". The part of the WDI DataFrame with the \"INX\" value in the \"Country Code\" column will not be included in the new DataFrame, because the inner join is used."
      ],
      "metadata": {
        "id": "rN1-WtK_yMsu"
      }
    },
    {
      "cell_type": "code",
      "execution_count": 102,
      "source": [
        "# Select columns in a specific order\n",
        "cols_ord = (['Country Code', 'Country Name', 'Region', 'Income Group', 'Topic'] \n",
        "            + df_wdi.columns[2:len(df_wdi.columns)-1])\n",
        "\n",
        "# Join all the selected DataFrames together\n",
        "wdi_csdf = (df_wdi\n",
        "            .join(df_country_w\n",
        "                  .dropna(subset=['Region', 'Income Group'])\n",
        "                  .select('Country Code', 'Region', 'Income group'), \n",
        "                  'Country Code')\n",
        "            .join(df_series.select('Series Code', 'Topic'),  \n",
        "                  df_wdi['Indicator Code'] == df_series['Series Code'], \n",
        "                  'left')\n",
        "            .fillna({'Topic': 'Unknown'})\n",
        "            .select(cols_ord))"
      ],
      "outputs": [],
      "metadata": {
        "id": "NGrq5sP-aSNQ"
      }
    },
    {
      "cell_type": "markdown",
      "source": [
        "Let's check if the merge occurred correctly by calculating the final number \n",
        "of rows and columns."
      ],
      "metadata": {
        "id": "HssZypF9DA8N"
      }
    },
    {
      "cell_type": "code",
      "execution_count": 103,
      "source": [
        "# Calculate the final number of rows\n",
        "rows_df = (df_wdi.where(df_wdi['Country Code'] != 'INX').count() \n",
        "           - (df_country.where(df_country['Region'].isNull()).count() - 1)\n",
        "           * df_series.select('Series Code').count())\n",
        "\n",
        "print(\"The correct number of rows: {0}, columns: {1}\".format(\n",
        "    rows_df, len(df_wdi.columns) + 2))\n",
        "print(\"The resulting number of rows: {0}, columns: {1}\".format(\n",
        "    wdi_csdf.count(), len(wdi_csdf.columns)))"
      ],
      "outputs": [
        {
          "output_type": "stream",
          "name": "stdout",
          "text": [
            "The correct number of rows: 313920, columns: 68\n",
            "The resulting number of rows: 313920, columns: 68\n"
          ]
        }
      ],
      "metadata": {
        "id": "JInJGddlXiGG",
        "colab": {
          "base_uri": "https://localhost:8080/"
        },
        "outputId": "4dcffc64-ede5-42ca-ae31-fac86360da19"
      }
    },
    {
      "cell_type": "markdown",
      "source": [
        "The number of rows and columns in the DataFrame matches the calculations, which means that the merge was performed as intended."
      ],
      "metadata": {
        "id": "dO-BTJNddnxb"
      }
    },
    {
      "cell_type": "markdown",
      "source": [
        "## 3. Analysis"
      ],
      "metadata": {
        "id": "e2vatQK159gZ"
      }
    },
    {
      "cell_type": "markdown",
      "source": [
        "### 3.1. Overview of the joined DataFrame"
      ],
      "metadata": {
        "id": "h9Q2CwyYsgyw"
      }
    },
    {
      "cell_type": "markdown",
      "source": [
        "We see what values are stored in our new DataFrame, for how many years' data on indicators is collected, how many values are missing."
      ],
      "metadata": {
        "id": "7s08wEq-AALq"
      }
    },
    {
      "cell_type": "code",
      "execution_count": 104,
      "source": [
        "# Display a sampled subset\n",
        "wdi_csdf.sample(0.2).show(10)"
      ],
      "outputs": [
        {
          "output_type": "stream",
          "name": "stdout",
          "text": [
            "+------------+------------+------+------------+--------------------+--------------------+--------------------+----+----+----+----+----+----+----+----+----+----+-------------------+-------------------+-------------------+-------------------+-------------------+-------------------+------------------+------------------+-------------------+-------------------+-------------------+-------------------+-------------------+-------------------+------------------+------------------+-------------------+-------------------+-------------------+------------------+-------------------+-------------------+-------------------+-------------------+------------------+-------------------+-------------------+-------------------+-------------------+-----------------+-------------------+-------------------+-------------------+-------------------+-------------------+-------------------+-------------------+-------------------+-------------------+-------------------+-------------------+-------------------+-------------------+-------------------+-------------------+-------------------+-------------------+-------------------+-------------------+----+----+\n",
            "|Country Code|Country Name|Region|Income Group|               Topic|      Indicator Name|      Indicator Code|1960|1961|1962|1963|1964|1965|1966|1967|1968|1969|               1970|               1971|               1972|               1973|               1974|               1975|              1976|              1977|               1978|               1979|               1980|               1981|               1982|               1983|              1984|              1985|               1986|               1987|               1988|              1989|               1990|               1991|               1992|               1993|              1994|               1995|               1996|               1997|               1998|             1999|               2000|               2001|               2002|               2003|               2004|               2005|               2006|               2007|               2008|               2009|               2010|               2011|               2012|               2013|               2014|               2015|               2016|               2017|               2018|2019|2020|\n",
            "+------------+------------+------+------------+--------------------+--------------------+--------------------+----+----+----+----+----+----+----+----+----+----+-------------------+-------------------+-------------------+-------------------+-------------------+-------------------+------------------+------------------+-------------------+-------------------+-------------------+-------------------+-------------------+-------------------+------------------+------------------+-------------------+-------------------+-------------------+------------------+-------------------+-------------------+-------------------+-------------------+------------------+-------------------+-------------------+-------------------+-------------------+-----------------+-------------------+-------------------+-------------------+-------------------+-------------------+-------------------+-------------------+-------------------+-------------------+-------------------+-------------------+-------------------+-------------------+-------------------+-------------------+-------------------+-------------------+-------------------+-------------------+----+----+\n",
            "|         WLD|       World| World|       World|Social Protection...|Adequacy of socia...|per_si_allsi.adq_...|null|null|null|null|null|null|null|null|null|null|               null|               null|               null|               null|               null|               null|              null|              null|               null|               null|               null|               null|               null|               null|              null|              null|               null|               null|               null|              null|               null|               null|               null|               null|              null|               null|               null|               null|               null|             null|               null|               null|               null|               null|               null|               null|               null|               null|               null|               null|               null|               null|               null|               null|               null|               null|               null|               null|               null|null|null|\n",
            "|         WLD|       World| World|       World|Social Protection...|Adequacy of socia...|per_allsp.adq_pop...|null|null|null|null|null|null|null|null|null|null|               null|               null|               null|               null|               null|               null|              null|              null|               null|               null|               null|               null|               null|               null|              null|              null|               null|               null|               null|              null|               null|               null|               null|               null|              null|               null|               null|               null|               null|             null|               null|               null|               null|               null|               null|               null|               null|               null|               null|               null|               null|               null|               null|               null|               null|               null|               null|               null|               null|null|null|\n",
            "|         WLD|       World| World|       World|Education: Partic...|Adjusted net enro...|         SE.PRM.TENR|null|null|null|null|null|null|null|null|null|null|               null|               null|               null|               null|               null|               null|              null|              null|               null|               null|               null|               null|               null|               null|              null|              null|               null|               null|               null|              null|               null|               null|               null|               null|              null|               null|               null|               null|               null|             null|               null|               null|               null|               null|               null|               null|               null|           89.74708|               null|           89.88673|           89.73896|           89.76079|           90.09036|           90.28756|           90.44798|           90.30999|            90.5136|           90.48209|           90.45493|null|null|\n",
            "|         WLD|       World| World|       World|Education: Partic...|Adjusted net enro...|      SE.PRM.TENR.FE|null|null|null|null|null|null|null|null|null|null|               null|               null|               null|               null|               null|               null|              null|              null|               null|               null|               null|               null|               null|               null|              null|              null|               null|               null|               null|              null|               null|               null|               null|               null|              null|               null|               null|               null|               null|             null|               null|               null|               null|               null|               null|               null|               null|               null|               null|           89.20455|            89.1279|           89.34253|           89.50035|           89.67569|           89.76395|            89.5167|           89.63329|           89.56732|           89.45854|null|null|\n",
            "|         WLD|       World| World|       World|Economic Policy &...|Adjusted net nati...|      NY.ADJ.NNTY.CD|null|null|null|null|null|null|null|null|null|null|2.55819246393721E12|2.82078533027302E12|3.25745766476014E12|3.96432263600533E12|4.46146819812468E12|4.96022240014275E12|5.3710426983198E12|6.0502380695826E12|7.17122460680983E12|8.14440685975795E12|9.07113469774187E12|9.43110384715166E12|9.40881274702081E12|9.54545406590003E12|9.9397459532205E12|1.0434728911588E13|1.24037728253552E13|1.40932493504139E13|1.58721503990015E13|1.6521149250301E13|1.85565267402012E13|1.97169573608552E13|2.09992328365168E13|2.12411086972644E13|2.2898435365135E13|2.55057786760786E13|2.61647750801433E13|2.61611334574123E13|2.62840732999007E13|2.716324721087E13|2.79406516272739E13|2.78128135397045E13|2.88468524028421E13|3.23397542486928E13|3.64139672580973E13|3.93069328561876E13|4.26799736061372E13|4.78021166990503E13|5.15382874137604E13|4.91087681887335E13|5.39425568571693E13|5.95749506305948E13|6.11763772204623E13|6.29182604466673E13|6.50506319441065E13|6.18812389987649E13|6.27230877520821E13|6.65707479374727E13|7.05316866660166E13|null|null|\n",
            "|         WLD|       World| World|       World|Economic Policy &...|Adjusted net savi...|   NY.ADJ.SVNX.GN.ZS|null|null|null|null|null|null|null|null|null|null|               null|               null|               null|               null|               null|   11.5674293787326|  12.2496805933821|   12.108264206688|   12.5194625163829|   11.1647353716342|   9.71801092346104|   11.4094761541297|   10.3906214986146|   9.12260155327942|    10.56711134002|  9.87190480521026|   9.05996156512744|   9.91561950361153|   10.0512366557228|  9.80943126980044|   8.13408951081749|   7.76794424971875|   7.63706201025386|   7.24805314338042|   8.5863065487429|   9.10284994121986|   11.0607630276254|   11.5363285472539|   11.2109020839611| 10.6134115178414|    10.553488036766|   9.67763444104901|   9.21091886955322|   9.25530567831953|   9.91966457062913|    10.103152259326|   11.0853060739525|   11.1158312512638|   9.61523618974933|   7.82498197493063|   9.61088394579596|   9.93305219078925|    10.218509666543|   10.1904016583945|   10.7859748160707|   11.0091127645085|   10.5189424901084|   10.8641476347654|   11.0558613118529|null|null|\n",
            "|         WLD|       World| World|       World|Economic Policy &...|Adjusted net savi...|      NY.ADJ.SVNG.CD|null|null|null|null|null|null|null|null|null|null|               null|               null|               null|               null|               null|               null|              null|              null|               null|               null|               null|               null|               null|               null|              null|              null|               null|               null|               null|              null|               null|               null|               null|               null|              null|               null|               null|               null|               null|             null|               null|               null|               null|               null|               null|               null|               null|               null|               null|               null|               null|               null|               null|               null|               null|               null|               null|               null|               null|null|null|\n",
            "|         WLD|       World| World|       World|Economic Policy &...|Adjusted savings:...|   NY.ADJ.ICTR.GN.ZS|null|null|null|null|null|null|null|null|null|null|               null|               null|               null|               null|               null|   22.2002703793693|  22.8271252323848|  22.9330151809989|   23.3632965143554|   23.6537340470186|   23.0432122116388|    23.994180242003|   22.5170719481839|   21.5324918616416|   22.565447979169|  21.9788849061602|    21.247704717365|   21.6401912650488|   22.4664735116646|  22.6470924076861|   21.8577446723364|   21.1280650926841|   20.6335784556536|   20.5943737893463|  21.5724925381126|   22.2219350494711|    23.939855242355|   24.1358262978623|   23.8857646683078| 23.6457330074462|   24.0559872679298|   23.1449190359262|   22.6669915400262|   22.7049606831776|   23.6407872463253|   24.2183738948936|   25.3178704612939|   25.4973377710342|   25.1199363313786|   23.0574627548773|    24.762517371045|   25.6808076673547|   26.0591995342886|   25.9439077681444|   26.3505942667054|   26.3297357012202|   25.8544159383334|   26.4819594209467|   26.7855571276728|null|null|\n",
            "|         WLD|       World| World|       World|Economic Policy &...|Adjusted savings:...|   NY.ADJ.DFOR.GN.ZS|null|null|null|null|null|null|null|null|null|null| 0.0334811919893483|  0.029798315397074| 0.0305065957807467|  0.044201183762223| 0.0386233821354372| 0.0508053425203519|  0.03993948439939|0.0693213671040071| 0.0600810689891042| 0.0447601273215169| 0.0477758236576597| 0.0443061304489654| 0.0654470062843945| 0.0681190917697744|0.0549059965293655|0.0414387015024719| 0.0537668996825606| 0.0504563795501844| 0.0464737064874989|0.0487403018388177| 0.0561381512521445| 0.0502442219722326| 0.0470678940527708| 0.0424535573843454|0.0421611688324596| 0.0533490197303323| 0.0506281392019808| 0.0478855997327531| 0.0465182123348679|0.034966765578476| 0.0319596447971688| 0.0317176090597799| 0.0363918008133251| 0.0471968738114482| 0.0366105340602918| 0.0364410340894137| 0.0391019870758804|  0.047704818805297| 0.0525690990198892| 0.0537299317863003| 0.0556955889945928| 0.0556431396896485| 0.0586928543742597| 0.0582906338953323| 0.0650210363876185| 0.0707949921031779| 0.0758577026983451| 0.0689941869963318| 0.0463332889424881|null|null|\n",
            "|         WLD|       World| World|       World|Economic Policy &...|Adjusted savings:...|   NY.ADJ.DPEM.GN.ZS|null|null|null|null|null|null|null|null|null|null|               null|               null|               null|               null|               null|               null|              null|              null|               null|               null|               null|               null|               null|               null|              null|              null|               null|               null|               null|              null|  0.263352217063284|  0.245529377440165|  0.234287347674114|  0.229955630928369| 0.222419538306116|  0.214677310641903|  0.210160569991206|  0.207959029606327|  0.200223584264833|0.194150580658376|  0.191921684746458|   0.18857100923609|   0.18641164369891|  0.180675035860568|  0.173298534349531|  0.173536436193604|  0.171132620554447|  0.170643100296857|  0.172453211702314|  0.180090688097593|  0.181605613624868|  0.183644774842978|  0.183112298677849|  0.184352258476133|  0.182730437612487|  0.189014112993234|  0.182852689901495|  0.181482421678271|  0.181611273185213|null|null|\n",
            "+------------+------------+------+------------+--------------------+--------------------+--------------------+----+----+----+----+----+----+----+----+----+----+-------------------+-------------------+-------------------+-------------------+-------------------+-------------------+------------------+------------------+-------------------+-------------------+-------------------+-------------------+-------------------+-------------------+------------------+------------------+-------------------+-------------------+-------------------+------------------+-------------------+-------------------+-------------------+-------------------+------------------+-------------------+-------------------+-------------------+-------------------+-----------------+-------------------+-------------------+-------------------+-------------------+-------------------+-------------------+-------------------+-------------------+-------------------+-------------------+-------------------+-------------------+-------------------+-------------------+-------------------+-------------------+-------------------+-------------------+-------------------+----+----+\n",
            "only showing top 10 rows\n",
            "\n"
          ]
        }
      ],
      "metadata": {
        "id": "GfOeidTxgAA0",
        "colab": {
          "base_uri": "https://localhost:8080/"
        },
        "outputId": "f97fff08-51f4-4462-a161-ec69f95f9e00"
      }
    },
    {
      "cell_type": "code",
      "execution_count": 105,
      "source": [
        "# Divide the columns into numeric and string columns\n",
        "years_cols = [col[0] for col in wdi_csdf.dtypes if col[1] == 'double']\n",
        "name_cols = [col[0] for col in wdi_csdf.dtypes if col[1] == 'string']"
      ],
      "outputs": [],
      "metadata": {
        "id": "FCvTNjJGmw9r"
      }
    },
    {
      "cell_type": "code",
      "execution_count": 106,
      "source": [
        "print(\"Number of years in the dataset: {}\".format(len(years_cols)))"
      ],
      "outputs": [
        {
          "output_type": "stream",
          "name": "stdout",
          "text": [
            "Number of years in the dataset: 61\n"
          ]
        }
      ],
      "metadata": {
        "id": "92MfpypQIeNi",
        "colab": {
          "base_uri": "https://localhost:8080/"
        },
        "outputId": "a2f858ad-46bc-4473-a375-2b530b311bab"
      }
    },
    {
      "cell_type": "code",
      "execution_count": 107,
      "source": [
        "# Counts the number of records for each year\n",
        "wdi_csdf.select(years_cols).summary('count').show()"
      ],
      "outputs": [
        {
          "output_type": "stream",
          "name": "stdout",
          "text": [
            "+-------+-----+-----+-----+-----+-----+-----+-----+-----+-----+-----+-----+-----+-----+-----+-----+-----+-----+-----+-----+-----+-----+-----+-----+-----+-----+-----+-----+-----+-----+-----+------+------+------+------+------+------+------+------+------+------+------+------+------+------+------+------+------+------+------+------+------+------+------+------+------+------+------+------+------+-----+-----+\n",
            "|summary| 1960| 1961| 1962| 1963| 1964| 1965| 1966| 1967| 1968| 1969| 1970| 1971| 1972| 1973| 1974| 1975| 1976| 1977| 1978| 1979| 1980| 1981| 1982| 1983| 1984| 1985| 1986| 1987| 1988| 1989|  1990|  1991|  1992|  1993|  1994|  1995|  1996|  1997|  1998|  1999|  2000|  2001|  2002|  2003|  2004|  2005|  2006|  2007|  2008|  2009|  2010|  2011|  2012|  2013|  2014|  2015|  2016|  2017|  2018| 2019| 2020|\n",
            "+-------+-----+-----+-----+-----+-----+-----+-----+-----+-----+-----+-----+-----+-----+-----+-----+-----+-----+-----+-----+-----+-----+-----+-----+-----+-----+-----+-----+-----+-----+-----+------+------+------+------+------+------+------+------+------+------+------+------+------+------+------+------+------+------+------+------+------+------+------+------+------+------+------+------+------+-----+-----+\n",
            "|  count|30360|34204|36077|36059|36592|38550|38591|40026|39734|41290|55305|61313|62795|62279|63481|66635|68627|71822|71645|72310|76746|78239|79134|78950|79523|80767|81399|82343|81508|83193|103270|109222|112989|114215|115931|123504|123106|123954|125708|131157|151345|144962|149488|149778|154488|165094|164439|167877|166899|167161|179245|172682|175134|170941|177080|173897|173611|161310|150047|96187|10547|\n",
            "+-------+-----+-----+-----+-----+-----+-----+-----+-----+-----+-----+-----+-----+-----+-----+-----+-----+-----+-----+-----+-----+-----+-----+-----+-----+-----+-----+-----+-----+-----+-----+------+------+------+------+------+------+------+------+------+------+------+------+------+------+------+------+------+------+------+------+------+------+------+------+------+------+------+------+------+-----+-----+\n",
            "\n"
          ]
        }
      ],
      "metadata": {
        "id": "6KXybp7Ozs5O",
        "colab": {
          "base_uri": "https://localhost:8080/"
        },
        "outputId": "656399b9-6e94-44ce-9ace-9259c552f4c0"
      }
    },
    {
      "cell_type": "markdown",
      "source": [
        "As we can see, there is not a single year where there is no record at all."
      ],
      "metadata": {
        "id": "VMFCakQprrxK"
      }
    },
    {
      "cell_type": "code",
      "execution_count": 108,
      "source": [
        "# Counts the number of records in string columns\n",
        "wdi_csdf.select(name_cols).summary('count').show()"
      ],
      "outputs": [
        {
          "output_type": "stream",
          "name": "stdout",
          "text": [
            "+-------+------------+------------+------+------------+------+--------------+--------------+\n",
            "|summary|Country Code|Country Name|Region|Income Group| Topic|Indicator Name|Indicator Code|\n",
            "+-------+------------+------------+------+------------+------+--------------+--------------+\n",
            "|  count|      313920|      313920|313920|      313920|313920|        313920|        313920|\n",
            "+-------+------------+------------+------+------------+------+--------------+--------------+\n",
            "\n"
          ]
        }
      ],
      "metadata": {
        "id": "rUnAuHsTreUl",
        "colab": {
          "base_uri": "https://localhost:8080/"
        },
        "outputId": "739a38c7-59cd-42b9-d6b2-6ac6ecf8148e"
      }
    },
    {
      "cell_type": "markdown",
      "source": [
        "The number in all columns is equal, which means that there are no missing entries in them."
      ],
      "metadata": {
        "id": "Tw9QruWQ6sJe"
      }
    },
    {
      "cell_type": "markdown",
      "source": [
        "### 3.2. The \"Region\", \"Income Group\" and \"Topic\" columns"
      ],
      "metadata": {
        "id": "EitBYz9MCKcA"
      }
    },
    {
      "cell_type": "markdown",
      "source": [
        "We will find out how many regions and income groups countries are divided into, what they are, and also calculate the number of countries in each such unit."
      ],
      "metadata": {
        "id": "mYSj5Og_q7Qm"
      }
    },
    {
      "cell_type": "code",
      "execution_count": 109,
      "source": [
        "wdi_csdf.select('Region').distinct().collect()"
      ],
      "outputs": [
        {
          "output_type": "execute_result",
          "data": {
            "text/plain": [
              "[Row(Region='South Asia'),\n",
              " Row(Region='World'),\n",
              " Row(Region='Sub-Saharan Africa'),\n",
              " Row(Region='Europe & Central Asia'),\n",
              " Row(Region='North America'),\n",
              " Row(Region='East Asia & Pacific'),\n",
              " Row(Region='Middle East & North Africa'),\n",
              " Row(Region='Latin America & Caribbean')]"
            ]
          },
          "metadata": {},
          "execution_count": 109
        }
      ],
      "metadata": {
        "id": "d4WjRsXLinfi",
        "colab": {
          "base_uri": "https://localhost:8080/"
        },
        "outputId": "90f2399a-3b3d-4142-97c5-d5d04a1972f2"
      }
    },
    {
      "cell_type": "code",
      "execution_count": 110,
      "source": [
        "(wdi_csdf.select('Country Code', 'Region').distinct()\n",
        "         .groupBy('Region').count().orderBy('count')\n",
        "         .show(truncate=False))"
      ],
      "outputs": [
        {
          "output_type": "stream",
          "name": "stdout",
          "text": [
            "+--------------------------+-----+\n",
            "|Region                    |count|\n",
            "+--------------------------+-----+\n",
            "|World                     |1    |\n",
            "|North America             |3    |\n",
            "|South Asia                |8    |\n",
            "|Middle East & North Africa|21   |\n",
            "|East Asia & Pacific       |37   |\n",
            "|Latin America & Caribbean |42   |\n",
            "|Sub-Saharan Africa        |48   |\n",
            "|Europe & Central Asia     |58   |\n",
            "+--------------------------+-----+\n",
            "\n"
          ]
        }
      ],
      "metadata": {
        "id": "5YycjKgvY-0-",
        "colab": {
          "base_uri": "https://localhost:8080/"
        },
        "outputId": "443674c0-7972-43e1-d73d-add7657c1597"
      }
    },
    {
      "cell_type": "code",
      "execution_count": 111,
      "source": [
        "wdi_csdf.select('Income Group').distinct().collect()"
      ],
      "outputs": [
        {
          "output_type": "execute_result",
          "data": {
            "text/plain": [
              "[Row(Income Group='Lower middle income'),\n",
              " Row(Income Group='World'),\n",
              " Row(Income Group='High income'),\n",
              " Row(Income Group='Upper middle income'),\n",
              " Row(Income Group='Low income')]"
            ]
          },
          "metadata": {},
          "execution_count": 111
        }
      ],
      "metadata": {
        "id": "Nf1qjwxShEki",
        "colab": {
          "base_uri": "https://localhost:8080/"
        },
        "outputId": "e9ac06fb-c234-47af-bc3e-ccfe364d8d7b"
      }
    },
    {
      "cell_type": "code",
      "execution_count": 112,
      "source": [
        "(wdi_csdf.filter(wdi_csdf['Income Group'] != 'World')\n",
        "         .select('Country Code', 'Income Group').distinct()\n",
        "         .groupBy('Income Group').count()\n",
        "         .orderBy(F.desc('Income Group')).show())"
      ],
      "outputs": [
        {
          "output_type": "stream",
          "name": "stdout",
          "text": [
            "+-------------------+-----+\n",
            "|       Income Group|count|\n",
            "+-------------------+-----+\n",
            "|Upper middle income|   56|\n",
            "|Lower middle income|   50|\n",
            "|         Low income|   29|\n",
            "|        High income|   82|\n",
            "+-------------------+-----+\n",
            "\n"
          ]
        }
      ],
      "metadata": {
        "id": "VmrHx59Dmp2Z",
        "colab": {
          "base_uri": "https://localhost:8080/"
        },
        "outputId": "bf5b80f3-c3fb-46a8-c9bb-a5db01dd8a7f"
      }
    },
    {
      "cell_type": "markdown",
      "source": [
        "We also find out the number of the indicator topics presented in the DataFrame and how many indicators belong to each of them."
      ],
      "metadata": {
        "id": "Pm4vjqsFvsSF"
      }
    },
    {
      "cell_type": "code",
      "execution_count": 113,
      "source": [
        "wdi_csdf.select('Topic').distinct().count()"
      ],
      "outputs": [
        {
          "output_type": "execute_result",
          "data": {
            "text/plain": [
              "90"
            ]
          },
          "metadata": {},
          "execution_count": 113
        }
      ],
      "metadata": {
        "id": "VJG8YT6EXhpi",
        "colab": {
          "base_uri": "https://localhost:8080/"
        },
        "outputId": "1d165e4e-9483-4af8-b069-92d4e347b3b7"
      }
    },
    {
      "cell_type": "code",
      "execution_count": 114,
      "source": [
        "(wdi_csdf.select('Indicator Code', 'Topic').distinct()\n",
        "         .groupBy('Topic').count().orderBy('Topic')\n",
        "         .show(10, False))"
      ],
      "outputs": [
        {
          "output_type": "stream",
          "name": "stdout",
          "text": [
            "+--------------------------------------------------------------------------------------+-----+\n",
            "|Topic                                                                                 |count|\n",
            "+--------------------------------------------------------------------------------------+-----+\n",
            "|Economic Policy & Debt: Balance of payments: Capital & financial account              |11   |\n",
            "|Economic Policy & Debt: Balance of payments: Current account: Balances                |4    |\n",
            "|Economic Policy & Debt: Balance of payments: Current account: Goods, services & income|22   |\n",
            "|Economic Policy & Debt: Balance of payments: Current account: Transfers               |7    |\n",
            "|Economic Policy & Debt: Balance of payments: Reserves & other items                   |6    |\n",
            "|Economic Policy & Debt: External debt: Debt outstanding                               |10   |\n",
            "|Economic Policy & Debt: External debt: Debt ratios & other items                      |11   |\n",
            "|Economic Policy & Debt: External debt: Debt service                                   |4    |\n",
            "|Economic Policy & Debt: External debt: Net flows                                      |20   |\n",
            "|Economic Policy & Debt: National accounts: Adjusted savings & income                  |28   |\n",
            "+--------------------------------------------------------------------------------------+-----+\n",
            "only showing top 10 rows\n",
            "\n"
          ]
        }
      ],
      "metadata": {
        "id": "ft58uQ-KwqBN",
        "colab": {
          "base_uri": "https://localhost:8080/"
        },
        "outputId": "819268a9-93e4-469f-fc2e-764f27afa8af"
      }
    },
    {
      "cell_type": "markdown",
      "source": [
        "### 3.3. Indicators and their topics"
      ],
      "metadata": {
        "id": "0XyP7UZs-jii"
      }
    },
    {
      "cell_type": "markdown",
      "source": [
        "Next, we will conduct a more detailed analysis of the indicators and their topics, namely, for which of them we have no or very few entries, in which years, countries, years and countries at the same time. \n",
        "\n",
        "Since we will often use the three main columns, we will create a list with them. In the analysis, we will also use aggregate functions whose name is displayed in the results, so we will create a function that will rename the resulting columns for our convenience.\n"
      ],
      "metadata": {
        "id": "Zlvqu00BwdHg"
      }
    },
    {
      "cell_type": "code",
      "execution_count": 115,
      "source": [
        "# Create a list of columns to analyze\n",
        "ind_nc_topic = ['Indicator Name', 'Indicator Code', 'Topic']"
      ],
      "outputs": [],
      "metadata": {
        "id": "YbOLMLWol13I"
      }
    },
    {
      "cell_type": "code",
      "execution_count": 116,
      "source": [
        "def rename_agg_cols(df, cols_rename, chars, new_form=None):\n",
        "    \"\"\"Return a new DataFrame with renamed aggregate columns.\n",
        "\n",
        "    Parameters:\n",
        "    df -- a PySpark DataFrame\n",
        "    cols_rename -- names of columns to rename\n",
        "    chars -- a string specifying the set of characters to be removed\n",
        "    new_form -- a new format of column names\n",
        "    \"\"\"\n",
        "    for old_name in cols_rename:\n",
        "    \n",
        "        if new_form:\n",
        "            new_name = new_form.format(old_name.strip(chars)) \n",
        "        else:\n",
        "            new_name = old_name.strip(chars)\n",
        "\n",
        "        df = df.withColumnRenamed(old_name, new_name)\n",
        "\n",
        "    return df"
      ],
      "outputs": [],
      "metadata": {
        "id": "nP17jWOR9K07"
      }
    },
    {
      "cell_type": "markdown",
      "source": [
        "\n",
        "To get started, let's see how many times each indicator appears in the dataset."
      ],
      "metadata": {
        "id": "RkiRvG4SPgbX"
      }
    },
    {
      "cell_type": "code",
      "execution_count": 117,
      "source": [
        "wdi_csdf.groupBy('Indicator Code').count().select('count').distinct().show()"
      ],
      "outputs": [
        {
          "output_type": "stream",
          "name": "stdout",
          "text": [
            "+-----+\n",
            "|count|\n",
            "+-----+\n",
            "|  218|\n",
            "+-----+\n",
            "\n"
          ]
        }
      ],
      "metadata": {
        "id": "L86epdCxGayK",
        "colab": {
          "base_uri": "https://localhost:8080/"
        },
        "outputId": "5f5cca57-7689-4ace-a544-54ed07801dc2"
      }
    },
    {
      "cell_type": "markdown",
      "source": [
        "We found that each indicator is repeated 218 times. This means that we can find out for each indicator the number of countries that contain data on it, for which there are few such records (or none at all) or for which there are many of them.\n",
        "\n",
        "First, we will determine the number of countries for each indicator in which the indicator has at least one entry for all the years, and similarly the number of indicators for each country, and then we will be able to see which indicators are represented in the majority (or minority) of countries."
      ],
      "metadata": {
        "id": "BhoD1-GyM3Z8"
      }
    },
    {
      "cell_type": "code",
      "execution_count": 118,
      "source": [
        "# Count the number of countries with data for each indicator\n",
        "# (the specific year does not matter)\n",
        "country_ind = (wdi_csdf.dropna('all', subset=years_cols)\n",
        "                       .groupBy(ind_nc_topic)\n",
        "                       .count())\n",
        "\n",
        "country_ind.select('Indicator Name', 'count').show(7, False)"
      ],
      "outputs": [
        {
          "output_type": "stream",
          "name": "stdout",
          "text": [
            "+--------------------------------------------------------------+-----+\n",
            "|Indicator Name                                                |count|\n",
            "+--------------------------------------------------------------+-----+\n",
            "|Depth of credit information index (0=low to 8=high)           |191  |\n",
            "|Manufactures exports (% of merchandise exports)               |199  |\n",
            "|People practicing open defecation (% of population)           |214  |\n",
            "|Personal remittances, received (% of GDP)                     |194  |\n",
            "|Electricity production from coal sources (% of total)         |143  |\n",
            "|GNI growth (annual %)                                         |169  |\n",
            "|Households and NPISHs final consumption expenditure (% of GDP)|194  |\n",
            "+--------------------------------------------------------------+-----+\n",
            "only showing top 7 rows\n",
            "\n"
          ]
        }
      ],
      "metadata": {
        "id": "lLu7yf1t3K1p",
        "colab": {
          "base_uri": "https://localhost:8080/"
        },
        "outputId": "1a285241-3204-4c92-b9b5-4e25961f836e"
      }
    },
    {
      "cell_type": "code",
      "execution_count": 119,
      "source": [
        "# Count the number of indicators with data for each country\n",
        "# (the specific indicator does not matter)\n",
        "(wdi_csdf.dropna('all', subset=years_cols)\n",
        "         .groupBy('Country Name').count()\n",
        "         .select('Country Name', 'count')\n",
        "         .limit(5).collect())"
      ],
      "outputs": [
        {
          "output_type": "execute_result",
          "data": {
            "text/plain": [
              "[Row(Country Name='Chad', count=1212),\n",
              " Row(Country Name='World', count=948),\n",
              " Row(Country Name='Congo, Dem. Rep.', count=1298),\n",
              " Row(Country Name='Cabo Verde', count=1216),\n",
              " Row(Country Name='Kiribati', count=917)]"
            ]
          },
          "metadata": {},
          "execution_count": 119
        }
      ],
      "metadata": {
        "id": "DxO3u2KYegeq",
        "colab": {
          "base_uri": "https://localhost:8080/"
        },
        "outputId": "9f751d7c-203f-44bb-c765-35bf6e7e42fc"
      }
    },
    {
      "cell_type": "markdown",
      "source": [
        "Next, we will focus on finding those indicators for which data is available in a large number of countries, for example, more than 200."
      ],
      "metadata": {
        "id": "6WdpdKDLiA_e"
      }
    },
    {
      "cell_type": "code",
      "execution_count": 120,
      "source": [
        "# Set the lower and upper bounds (inclusive) for selecting indicators\n",
        "sel_bounds = (200, 220)"
      ],
      "outputs": [],
      "metadata": {
        "id": "TfEIfwu-dtca"
      }
    },
    {
      "cell_type": "code",
      "execution_count": 121,
      "source": [
        "# Find out indicators with data in a certain number of countries\n",
        "country_ind_sel = country_ind.where(F.col('count').between(*sel_bounds))\n",
        "country_ind_sel.count()"
      ],
      "outputs": [
        {
          "output_type": "execute_result",
          "data": {
            "text/plain": [
              "227"
            ]
          },
          "metadata": {},
          "execution_count": 121
        }
      ],
      "metadata": {
        "id": "Sj-YwOf_opPx",
        "colab": {
          "base_uri": "https://localhost:8080/"
        },
        "outputId": "1d62f630-586c-4348-8531-093a3be9d4b0"
      }
    },
    {
      "cell_type": "code",
      "execution_count": 122,
      "source": [
        "# View which topics these indicators relate to\n",
        "country_ind_sel.select('Topic').distinct().limit(5).collect()"
      ],
      "outputs": [
        {
          "output_type": "execute_result",
          "data": {
            "text/plain": [
              "[Row(Topic='Education: Efficiency'),\n",
              " Row(Topic='Social Protection & Labor: Labor force structure'),\n",
              " Row(Topic='Environment: Density & urbanization'),\n",
              " Row(Topic='Environment: Agricultural production'),\n",
              " Row(Topic='Economic Policy & Debt: National accounts: Local currency at current prices: Expenditure on GDP')]"
            ]
          },
          "metadata": {},
          "execution_count": 122
        }
      ],
      "metadata": {
        "id": "q_bjHWeIzORJ",
        "colab": {
          "base_uri": "https://localhost:8080/"
        },
        "outputId": "34376701-9f0a-4e50-de42-4f6d38c7526a"
      }
    },
    {
      "cell_type": "code",
      "execution_count": 123,
      "source": [
        "country_ind_sel.select('Topic').distinct().count()"
      ],
      "outputs": [
        {
          "output_type": "execute_result",
          "data": {
            "text/plain": [
              "44"
            ]
          },
          "metadata": {},
          "execution_count": 123
        }
      ],
      "metadata": {
        "id": "iCuMquloyqgy",
        "colab": {
          "base_uri": "https://localhost:8080/"
        },
        "outputId": "220d5e33-c59a-48f9-f71b-09de804a488d"
      }
    },
    {
      "cell_type": "markdown",
      "source": [
        "Now we will expand the previously obtained data to see which indicators and in which specific years we have data. "
      ],
      "metadata": {
        "id": "FimpOQZiNGho"
      }
    },
    {
      "cell_type": "code",
      "execution_count": 124,
      "source": [
        "# Count the number of countries with data for each indicator in each year\n",
        "agg_op = {year: 'count' for year in years_cols}\n",
        "year_ind_agg = (wdi_csdf.groupBy(ind_nc_topic)\n",
        "                        .agg(agg_op)\n",
        "                        .orderBy('Indicator Name'))\n",
        "\n",
        "# Use our defined function to rename aggregate columns\n",
        "year_ind = rename_agg_cols(year_ind_agg.select(ind_nc_topic\n",
        "                                               + sorted(year_ind_agg.columns[3:])), \n",
        "                           year_ind_agg.columns[3:], 'count()')\n",
        "\n",
        "year_ind.show(10)"
      ],
      "outputs": [
        {
          "output_type": "stream",
          "name": "stdout",
          "text": [
            "+--------------------+-----------------+--------------------+----+----+----+----+----+----+----+----+----+----+----+----+----+----+----+----+----+----+----+----+----+----+----+----+----+----+----+----+----+----+----+----+----+----+----+----+----+----+----+----+----+----+----+----+----+----+----+----+----+----+----+----+----+----+----+----+----+----+----+----+----+\n",
            "|      Indicator Name|   Indicator Code|               Topic|1960|1961|1962|1963|1964|1965|1966|1967|1968|1969|1970|1971|1972|1973|1974|1975|1976|1977|1978|1979|1980|1981|1982|1983|1984|1985|1986|1987|1988|1989|1990|1991|1992|1993|1994|1995|1996|1997|1998|1999|2000|2001|2002|2003|2004|2005|2006|2007|2008|2009|2010|2011|2012|2013|2014|2015|2016|2017|2018|2019|2020|\n",
            "+--------------------+-----------------+--------------------+----+----+----+----+----+----+----+----+----+----+----+----+----+----+----+----+----+----+----+----+----+----+----+----+----+----+----+----+----+----+----+----+----+----+----+----+----+----+----+----+----+----+----+----+----+----+----+----+----+----+----+----+----+----+----+----+----+----+----+----+----+\n",
            "|ARI treatment (% ...|   SH.STA.ARIC.ZS|Health: Disease p...|   0|   0|   0|   0|   0|   0|   0|   0|   0|   0|   0|   0|   0|   0|   0|   0|   0|   0|   0|   0|   0|   0|   0|   0|   0|   0|   0|   0|   0|   0|   3|   4|  11|   8|   5|   7|  12|  11|   9|  12|  55|   9|  10|  15|  12|  23|  46|  16|  10|  13|  29|  26|  24|  19|  32|  15|  21|  12|  22|   4|   3|\n",
            "|Access to clean f...|   EG.CFT.ACCS.ZS|Environment: Ener...|   0|   0|   0|   0|   0|   0|   0|   0|   0|   0|   0|   0|   0|   0|   0|   0|   0|   0|   0|   0|   0|   0|   0|   0|   0|   0|   0|   0|   0|   0|   0|   0|   0|   0|   0|   0|   0|   0|   0|   0| 190| 190| 190| 190| 190| 190| 190| 190| 190| 190| 190| 190| 190| 190| 190| 190| 190|   0|   0|   0|   0|\n",
            "|Access to electri...|   EG.ELC.ACCS.ZS|Environment: Ener...|   0|   0|   0|   0|   0|   0|   0|   0|   0|   0|   0|   0|   0|   0|   0|   0|   0|   0|   0|   0|   0|   0|   0|   0|   0|   0|   0|   0|   0|   0|  82|  93| 108| 118| 123| 130| 139| 145| 151| 157| 175| 184| 192| 192| 194| 201| 205| 207| 207| 211| 214| 215| 216| 216| 216| 216| 216| 216| 216|   0|   0|\n",
            "|Access to electri...|EG.ELC.ACCS.RU.ZS|Environment: Ener...|   0|   0|   0|   0|   0|   0|   0|   0|   0|   0|   0|   0|   0|   0|   0|   0|   0|   0|   0|   0|   0|   0|   0|   0|   0|   0|   0|   0|   0|   0|  80|  90| 101| 111| 115| 123| 131| 134| 140| 146| 165| 176| 184| 188| 190| 195| 199| 199| 200| 204| 208| 210| 208| 209| 212| 212| 209| 210| 210|   0|   0|\n",
            "|Access to electri...|EG.ELC.ACCS.UR.ZS|Environment: Ener...|   0|   0|   0|   0|   0|   0|   0|   0|   0|   0|   0|   0|   0|   0|   0|   0|   0|   0|   0|   0|   0|   0|   0|   0|   0|   0|   0|   0|   0|   0|  82|  93| 107| 118| 123| 130| 139| 144| 148| 154| 173| 183| 191| 191| 193| 200| 204| 205| 206| 209| 212| 213| 214| 214| 214| 214| 214| 214| 214|   0|   0|\n",
            "|Account ownership...|   FX.OWN.TOTL.ZS|Financial Sector:...|   0|   0|   0|   0|   0|   0|   0|   0|   0|   0|   0|   0|   0|   0|   0|   0|   0|   0|   0|   0|   0|   0|   0|   0|   0|   0|   0|   0|   0|   0|   0|   0|   0|   0|   0|   0|   0|   0|   0|   0|   0|   0|   0|   0|   0|   0|   0|   0|   0|   0|   0| 144|   0|   0| 142|   0|   0| 144|   0|   0|   0|\n",
            "|Account ownership...|FX.OWN.TOTL.FE.ZS|Financial Sector:...|   0|   0|   0|   0|   0|   0|   0|   0|   0|   0|   0|   0|   0|   0|   0|   0|   0|   0|   0|   0|   0|   0|   0|   0|   0|   0|   0|   0|   0|   0|   0|   0|   0|   0|   0|   0|   0|   0|   0|   0|   0|   0|   0|   0|   0|   0|   0|   0|   0|   0|   0| 144|   0|   0| 142|   0|   0| 144|   0|   0|   0|\n",
            "|Account ownership...|FX.OWN.TOTL.MA.ZS|Financial Sector:...|   0|   0|   0|   0|   0|   0|   0|   0|   0|   0|   0|   0|   0|   0|   0|   0|   0|   0|   0|   0|   0|   0|   0|   0|   0|   0|   0|   0|   0|   0|   0|   0|   0|   0|   0|   0|   0|   0|   0|   0|   0|   0|   0|   0|   0|   0|   0|   0|   0|   0|   0| 144|   0|   0| 142|   0|   0| 144|   0|   0|   0|\n",
            "|Account ownership...|FX.OWN.TOTL.OL.ZS|Financial Sector:...|   0|   0|   0|   0|   0|   0|   0|   0|   0|   0|   0|   0|   0|   0|   0|   0|   0|   0|   0|   0|   0|   0|   0|   0|   0|   0|   0|   0|   0|   0|   0|   0|   0|   0|   0|   0|   0|   0|   0|   0|   0|   0|   0|   0|   0|   0|   0|   0|   0|   0|   0| 144|   0|   0| 142|   0|   0| 144|   0|   0|   0|\n",
            "|Account ownership...|FX.OWN.TOTL.40.ZS|Financial Sector:...|   0|   0|   0|   0|   0|   0|   0|   0|   0|   0|   0|   0|   0|   0|   0|   0|   0|   0|   0|   0|   0|   0|   0|   0|   0|   0|   0|   0|   0|   0|   0|   0|   0|   0|   0|   0|   0|   0|   0|   0|   0|   0|   0|   0|   0|   0|   0|   0|   0|   0|   0| 136|   0|   0| 141|   0|   0| 144|   0|   0|   0|\n",
            "+--------------------+-----------------+--------------------+----+----+----+----+----+----+----+----+----+----+----+----+----+----+----+----+----+----+----+----+----+----+----+----+----+----+----+----+----+----+----+----+----+----+----+----+----+----+----+----+----+----+----+----+----+----+----+----+----+----+----+----+----+----+----+----+----+----+----+----+----+\n",
            "only showing top 10 rows\n",
            "\n"
          ]
        }
      ],
      "metadata": {
        "id": "EiZaZLu81Vp3",
        "colab": {
          "base_uri": "https://localhost:8080/"
        },
        "outputId": "4344c1de-5a37-42d3-ac74-e5202981b52f"
      }
    },
    {
      "cell_type": "markdown",
      "source": [
        "From the table above, it can be seen that in many years some indicators have no values at all. We can create a new DataFrame, which will collect all the years that meet certain conditions in a single list and count the number of such years. Then we can select from this DataFrame exactly those indicators that we need. \n",
        "\n",
        "First, we define a function that will help us find the right years for us."
      ],
      "metadata": {
        "id": "8QsjSZU_kI8s"
      }
    },
    {
      "cell_type": "code",
      "execution_count": 125,
      "source": [
        "def collect_cols(df, cols, new_cols, bounds=None, exp_isnull=None):\n",
        "    \"\"\"Collects in a new column all the column names whose values match \n",
        "    the condition, and counts the number of such columns.\n",
        "\n",
        "    Parameters:\n",
        "    df -- a PySpark DataFrame\n",
        "    cols -- columns whose value will be compared with the condition\n",
        "    new_cols -- names for the two new columns\n",
        "    bounds -- values for the PySpark Column method \"between()\" \n",
        "    to select columns (default None)\n",
        "    exp_isnull -- whether to use the PySpark Column methods \"isNull()\" \n",
        "    (if True) or \"isNotNull()\" (if bounds is None) (default None). \n",
        "    This parameter is ignored when bounds have a value other than None\n",
        "    \n",
        "    Return a new DataFrame with the two new columns.\n",
        "    \"\"\"\n",
        "    if bounds:\n",
        "        cond = [F.when(df[col].between(*bounds), F.lit(col)) for col in cols]\n",
        "    elif exp_isnull:\n",
        "        cond = [F.when(df[col].isNull(), F.lit(col)) for col in cols]\n",
        "    else:\n",
        "        cond = [F.when(df[col].isNotNull(), F.lit(col)) for col in cols]\n",
        "\n",
        "    new_df = (df.withColumn(new_cols[0], F.array_sort(F.array(cond)))\n",
        "                .withColumn(new_cols[0], \n",
        "                            F.array_intersect(new_cols[0], \n",
        "                                              F.array([F.lit(col) for col in cols])))\n",
        "                .withColumn(new_cols[1], F.size(new_cols[0]))\n",
        "                .select('*'))\n",
        "\n",
        "    return new_df"
      ],
      "outputs": [],
      "metadata": {
        "id": "3_pOKoCFGFsb"
      }
    },
    {
      "cell_type": "code",
      "execution_count": 126,
      "source": [
        "# Find out the years when the indicators have entries in a certain number \n",
        "# of countries\n",
        "year_country_ind = collect_cols(year_ind, years_cols, \n",
        "                                ['Name_years', 'Num_years'], \n",
        "                                bounds=sel_bounds).drop(*years_cols)\n",
        "                            \n",
        "year_country_ind.select('*').show(5)"
      ],
      "outputs": [
        {
          "output_type": "stream",
          "name": "stdout",
          "text": [
            "+--------------------+-----------------+--------------------+--------------------+---------+\n",
            "|      Indicator Name|   Indicator Code|               Topic|          Name_years|Num_years|\n",
            "+--------------------+-----------------+--------------------+--------------------+---------+\n",
            "|ARI treatment (% ...|   SH.STA.ARIC.ZS|Health: Disease p...|                  []|        0|\n",
            "|Access to clean f...|   EG.CFT.ACCS.ZS|Environment: Ener...|                  []|        0|\n",
            "|Access to electri...|   EG.ELC.ACCS.ZS|Environment: Ener...|[2005, 2006, 2007...|       14|\n",
            "|Access to electri...|EG.ELC.ACCS.RU.ZS|Environment: Ener...|[2008, 2009, 2010...|       11|\n",
            "|Access to electri...|EG.ELC.ACCS.UR.ZS|Environment: Ener...|[2005, 2006, 2007...|       14|\n",
            "+--------------------+-----------------+--------------------+--------------------+---------+\n",
            "only showing top 5 rows\n",
            "\n"
          ]
        }
      ],
      "metadata": {
        "id": "lV1J7cY5XvQU",
        "colab": {
          "base_uri": "https://localhost:8080/"
        },
        "outputId": "fe8458bf-cdd7-4d45-f1f2-dc4a540c1920"
      }
    },
    {
      "cell_type": "code",
      "execution_count": 127,
      "source": [
        "# Select indicators that have values in a certain number of countries and years\n",
        "year_country_ind_sel = year_country_ind.filter(year_country_ind['Num_years'] >= 50)\n",
        "\n",
        "# Create a list of these indicator names\n",
        "year_country_ind_sel.select(ind_nc_topic[:2]).show(7, False)"
      ],
      "outputs": [
        {
          "output_type": "stream",
          "name": "stdout",
          "text": [
            "+---------------------------------------------------+--------------+\n",
            "|Indicator Name                                     |Indicator Code|\n",
            "+---------------------------------------------------+--------------+\n",
            "|Land area (sq. km)                                 |AG.LND.TOTL.K2|\n",
            "|Population density (people per sq. km of land area)|EN.POP.DNST   |\n",
            "|Population growth (annual %)                       |SP.POP.GROW   |\n",
            "|Population, total                                  |SP.POP.TOTL   |\n",
            "|Primary education, duration (years)                |SE.PRM.DURS   |\n",
            "|Primary school starting age (years)                |SE.PRM.AGES   |\n",
            "|Rural population                                   |SP.RUR.TOTL   |\n",
            "+---------------------------------------------------+--------------+\n",
            "only showing top 7 rows\n",
            "\n"
          ]
        }
      ],
      "metadata": {
        "id": "OdmTuYBPLVZi",
        "colab": {
          "base_uri": "https://localhost:8080/"
        },
        "outputId": "78bd2309-ff21-45e4-9ef4-b70730f0667a"
      }
    },
    {
      "cell_type": "markdown",
      "source": [
        "Above, we can see what kind of data we have the most.\n",
        "\n",
        "In the same way, we can define specific topics."
      ],
      "metadata": {
        "id": "bg5JboKzwq5n"
      }
    },
    {
      "cell_type": "code",
      "execution_count": 128,
      "source": [
        "year_country_ind_sel.select('Topic').distinct().limit(5).collect()"
      ],
      "outputs": [
        {
          "output_type": "execute_result",
          "data": {
            "text/plain": [
              "[Row(Topic='Environment: Density & urbanization'),\n",
              " Row(Topic='Environment: Land use'),\n",
              " Row(Topic='Health: Population: Structure'),\n",
              " Row(Topic='Education: Outcomes'),\n",
              " Row(Topic='Health: Population: Dynamics')]"
            ]
          },
          "metadata": {},
          "execution_count": 128
        }
      ],
      "metadata": {
        "id": "_DTNBD4bOfap",
        "colab": {
          "base_uri": "https://localhost:8080/"
        },
        "outputId": "1548862b-b887-4263-8096-d7feca29b47f"
      }
    },
    {
      "cell_type": "code",
      "execution_count": 129,
      "source": [
        "year_country_ind_sel.select('Topic').distinct().count()"
      ],
      "outputs": [
        {
          "output_type": "execute_result",
          "data": {
            "text/plain": [
              "6"
            ]
          },
          "metadata": {},
          "execution_count": 129
        }
      ],
      "metadata": {
        "id": "K7CgkqSkPpGm",
        "colab": {
          "base_uri": "https://localhost:8080/"
        },
        "outputId": "23c39ff6-f9fb-4f47-8c06-cc9c607b72ac"
      }
    },
    {
      "cell_type": "markdown",
      "source": [
        "Previously, we found out information on indicators without taking into account individual countries, but in the same way, we can find specific years in which each indicator of each country has data."
      ],
      "metadata": {
        "id": "cIxgLVGb2A7x"
      }
    },
    {
      "cell_type": "code",
      "execution_count": 130,
      "source": [
        "# Find out in which years the indicators have records in certain countries\n",
        "wdi_csdf_years = collect_cols(wdi_csdf, years_cols, \n",
        "                              ['Name_years_c', 'Num_years_c']).drop(*years_cols)\n",
        "\n",
        "wdi_csdf_years.select('Country Name', 'Indicator Name',\n",
        "                      'Name_years_c', 'Num_years_c').show(5)"
      ],
      "outputs": [
        {
          "output_type": "stream",
          "name": "stdout",
          "text": [
            "+------------+--------------------+--------------------+-----------+\n",
            "|Country Name|      Indicator Name|        Name_years_c|Num_years_c|\n",
            "+------------+--------------------+--------------------+-----------+\n",
            "|       World|Access to clean f...|[2000, 2001, 2002...|         17|\n",
            "|       World|Access to electri...|[1998, 1999, 2000...|         21|\n",
            "|       World|Access to electri...|[2000, 2001, 2002...|         19|\n",
            "|       World|Access to electri...|[1993, 1994, 1995...|         26|\n",
            "|       World|Account ownership...|  [2011, 2014, 2017]|          3|\n",
            "+------------+--------------------+--------------------+-----------+\n",
            "only showing top 5 rows\n",
            "\n"
          ]
        }
      ],
      "metadata": {
        "id": "6WgcUiDa7uwD",
        "colab": {
          "base_uri": "https://localhost:8080/"
        },
        "outputId": "da6cbe5e-57bb-42c5-be6c-f203cbb494c2"
      }
    },
    {
      "cell_type": "markdown",
      "source": [
        "### 3.4. Overview of the operation of some Pyspark tools "
      ],
      "metadata": {
        "id": "3qf2mqdAR5BN"
      }
    },
    {
      "cell_type": "markdown",
      "source": [
        "We will conduct a small analysis of changes in demographic indicators (Population, total ('SP.POP.TOTL'), Population density (people per square km of land area) (EN.POP.DNST)) over the past 5 years in the context of the world, to additionally look at the work of some of the built-in functions of the PySpark SQL module.\n",
        "\n",
        "We will rename the columns with spaces in the names so that there are no problems with queries, otherwise we will need to use the (`) sign. And then we create a local temporary view with our DataFrame."
      ],
      "metadata": {
        "id": "cDLrdt3nYqfJ"
      }
    },
    {
      "cell_type": "code",
      "execution_count": 131,
      "source": [
        "# Create a new DataFrame with decimal values\n",
        "pop_df1 = (wdi_csdf\n",
        "          .filter(wdi_csdf['Indicator Code'].isin(['SP.POP.TOTL', \n",
        "                                                   'EN.POP.DNST']))\n",
        "          .select('Income Group', 'Indicator Name', \n",
        "                  *[wdi_csdf[cname].astype(DecimalType()) \n",
        "                    for cname in wdi_csdf.columns[-6:-1]])\n",
        "          .groupBy('Income Group', 'Indicator Name').sum()\n",
        "          .withColumnRenamed('Income Group', 'IncomeGroup')\n",
        "          .withColumnRenamed('Indicator Name', 'IndicatorName'))\n",
        "\n",
        "pop_df = rename_agg_cols(pop_df1, pop_df1.schema.names[2:], 'sum()', 'YR{}')\n",
        "\n",
        "# Create a local temporary view with this DataFrame\n",
        "pop_df.createOrReplaceTempView('Population')"
      ],
      "outputs": [],
      "metadata": {
        "id": "j3wd6oVBYp7_"
      }
    },
    {
      "cell_type": "markdown",
      "source": [
        "Let's send some simple raw SQL queries to our DataFrame."
      ],
      "metadata": {
        "id": "jC5854bmW5i5"
      }
    },
    {
      "cell_type": "code",
      "execution_count": 132,
      "source": [
        "query1 = \"SELECT * FROM Population ORDER BY IncomeGroup, IndicatorName\"\n",
        "spark.sql(query1).show(5)"
      ],
      "outputs": [
        {
          "output_type": "stream",
          "name": "stdout",
          "text": [
            "+-------------------+--------------------+----------+----------+----------+----------+----------+\n",
            "|        IncomeGroup|       IndicatorName|    YR2015|    YR2016|    YR2017|    YR2018|    YR2019|\n",
            "+-------------------+--------------------+----------+----------+----------+----------+----------+\n",
            "|        High income|Population densit...|     76299|     77209|     77947|     57117|      null|\n",
            "|        High income|   Population, total|1188790808|1195543881|1201478568|1206941436|1212261807|\n",
            "|         Low income|Population densit...|      3027|      3095|      3169|      3246|      null|\n",
            "|         Low income|   Population, total| 599891723| 615404283| 631383801| 647874801| 664957848|\n",
            "|Lower middle income|Population densit...|      7195|      7307|      7418|      7530|        94|\n",
            "+-------------------+--------------------+----------+----------+----------+----------+----------+\n",
            "only showing top 5 rows\n",
            "\n"
          ]
        }
      ],
      "metadata": {
        "id": "a025dYb5ofh6",
        "colab": {
          "base_uri": "https://localhost:8080/"
        },
        "outputId": "2afea2cf-d86d-419a-c3b4-406d2a734e57"
      }
    },
    {
      "cell_type": "code",
      "execution_count": 133,
      "source": [
        "query2 = \"SELECT *  FROM Population WHERE IncomeGroup != 'World' ORDER BY IncomeGroup, IndicatorName\"\n",
        "spark.sql(query2).show(5)"
      ],
      "outputs": [
        {
          "output_type": "stream",
          "name": "stdout",
          "text": [
            "+-------------------+--------------------+----------+----------+----------+----------+----------+\n",
            "|        IncomeGroup|       IndicatorName|    YR2015|    YR2016|    YR2017|    YR2018|    YR2019|\n",
            "+-------------------+--------------------+----------+----------+----------+----------+----------+\n",
            "|        High income|Population densit...|     76299|     77209|     77947|     57117|      null|\n",
            "|        High income|   Population, total|1188790808|1195543881|1201478568|1206941436|1212261807|\n",
            "|         Low income|Population densit...|      3027|      3095|      3169|      3246|      null|\n",
            "|         Low income|   Population, total| 599891723| 615404283| 631383801| 647874801| 664957848|\n",
            "|Lower middle income|Population densit...|      7195|      7307|      7418|      7530|        94|\n",
            "+-------------------+--------------------+----------+----------+----------+----------+----------+\n",
            "only showing top 5 rows\n",
            "\n"
          ]
        }
      ],
      "metadata": {
        "id": "hb1dfBDoNuYX",
        "colab": {
          "base_uri": "https://localhost:8080/"
        },
        "outputId": "25dce4df-a361-432c-a41b-e7243f74bdf1"
      }
    },
    {
      "cell_type": "markdown",
      "source": [
        "We use the window function to rank the population density and the total population value."
      ],
      "metadata": {
        "id": "TwAHP8YMaZtw"
      }
    },
    {
      "cell_type": "code",
      "execution_count": 134,
      "source": [
        "pop_window = Window.partitionBy('IndicatorName').orderBy(pop_df.columns[2:])\n",
        "        \n",
        "pop_df.withColumn('Rank', F.dense_rank().over(pop_window)).show()   "
      ],
      "outputs": [
        {
          "output_type": "stream",
          "name": "stdout",
          "text": [
            "+-------------------+--------------------+----------+----------+----------+----------+----------+----+\n",
            "|        IncomeGroup|       IndicatorName|    YR2015|    YR2016|    YR2017|    YR2018|    YR2019|Rank|\n",
            "+-------------------+--------------------+----------+----------+----------+----------+----------+----+\n",
            "|              World|Population densit...|        58|        58|        59|        60|      null|   1|\n",
            "|         Low income|Population densit...|      3027|      3095|      3169|      3246|      null|   2|\n",
            "|Lower middle income|Population densit...|      7195|      7307|      7418|      7530|        94|   3|\n",
            "|Upper middle income|Population densit...|      7437|      7558|      7678|      7619|        65|   4|\n",
            "|        High income|Population densit...|     76299|     77209|     77947|     57117|      null|   5|\n",
            "|         Low income|   Population, total| 599891723| 615404283| 631383801| 647874801| 664957848|   1|\n",
            "|        High income|   Population, total|1188790808|1195543881|1201478568|1206941436|1212261807|   2|\n",
            "|Lower middle income|   Population, total|2749824313|2790617792|2831466703|2872397765|2913363391|   3|\n",
            "|Upper middle income|   Population, total|2773653730|2795835267|2817780046|2837704209|2855862780|   4|\n",
            "|              World|   Population, total|7338964954|7424286143|7509074479|7591945271|7673533974|   5|\n",
            "+-------------------+--------------------+----------+----------+----------+----------+----------+----+\n",
            "\n"
          ]
        }
      ],
      "metadata": {
        "id": "M-AKjUkJbH1-",
        "colab": {
          "base_uri": "https://localhost:8080/"
        },
        "outputId": "9eb18b52-d231-43c8-cd03-987a4349d2ce"
      }
    },
    {
      "cell_type": "markdown",
      "source": [
        "We will write a function to rotate the DataFrame so that the columns are indicators and the samples are countries and years."
      ],
      "metadata": {
        "id": "Lbfh8TX0Sz0n"
      }
    },
    {
      "cell_type": "code",
      "execution_count": 135,
      "source": [
        "def transpose_cols(df, show_cols, unpivot_cols=None, new_names=('Key', 'Val'), \n",
        "                   pivot_col=None, group_cols=('Key', 'Val')):\n",
        "    \"\"\"Returns a new transpose DataFrame or Group data (if a pivot is used).\n",
        "\n",
        "    Parameters:\n",
        "    df -- a Pyspark DataFrame\n",
        "    show_cols -- columns that will be displayed along with the new columns\n",
        "    unpivot_cols -- columns that will be unpivot\n",
        "    new_names -- names for two new columns that will be created by unpivoting\n",
        "    pivot_col -- a column whose values will be new columns \n",
        "    (aggregation is not used)\n",
        "    group_cols -- a tuple of columns for grouping\n",
        "    \"\"\"\n",
        "    if unpivot_cols:\n",
        "        transp_df = (df.select('*', F.explode_outer(F.array(\n",
        "            [F.create_map(F.lit(name), F.col(name)) \n",
        "            for name in unpivot_cols])).alias('New_cols'))\n",
        "                       .select(*show_cols, \n",
        "                               F.explode_outer('New_cols').alias(*new_names)))\n",
        "\n",
        "        if pivot_col: \n",
        "            transp_df = (transp_df.withColumn(pivot_col, df[pivot_col])\n",
        "                                  .groupBy(*group_cols).pivot(pivot_col))\n",
        "            \n",
        "    elif pivot_col:\n",
        "        transp_df = df.groupBy(*group_cols).pivot(pivot_col)\n",
        "\n",
        "    return transp_df"
      ],
      "outputs": [],
      "metadata": {
        "id": "wyAG45YTsLk2"
      }
    },
    {
      "cell_type": "code",
      "execution_count": 136,
      "source": [
        "# Transpose the DataFrame so that the indicators and the years are reversed\n",
        "tr_pop_df = transpose_cols(pop_df, pop_df.columns[:2], \n",
        "                           unpivot_cols=pop_df.columns[2:], \n",
        "                           new_names=('Years', 'Vals'), \n",
        "                           pivot_col='IndicatorName', \n",
        "                           group_cols=('IncomeGroup', 'Years'))\n",
        "\n",
        "tr_pop_df.max().orderBy('IncomeGroup', 'Years').show()"
      ],
      "outputs": [
        {
          "output_type": "stream",
          "name": "stdout",
          "text": [
            "+-------------------+------+---------------------------------------------------+-----------------+\n",
            "|        IncomeGroup| Years|Population density (people per sq. km of land area)|Population, total|\n",
            "+-------------------+------+---------------------------------------------------+-----------------+\n",
            "|        High income|YR2015|                                              76299|       1188790808|\n",
            "|        High income|YR2016|                                              77209|       1195543881|\n",
            "|        High income|YR2017|                                              77947|       1201478568|\n",
            "|        High income|YR2018|                                              57117|       1206941436|\n",
            "|        High income|YR2019|                                               null|       1212261807|\n",
            "|         Low income|YR2015|                                               3027|        599891723|\n",
            "|         Low income|YR2016|                                               3095|        615404283|\n",
            "|         Low income|YR2017|                                               3169|        631383801|\n",
            "|         Low income|YR2018|                                               3246|        647874801|\n",
            "|         Low income|YR2019|                                               null|        664957848|\n",
            "|Lower middle income|YR2015|                                               7195|       2749824313|\n",
            "|Lower middle income|YR2016|                                               7307|       2790617792|\n",
            "|Lower middle income|YR2017|                                               7418|       2831466703|\n",
            "|Lower middle income|YR2018|                                               7530|       2872397765|\n",
            "|Lower middle income|YR2019|                                                 94|       2913363391|\n",
            "|Upper middle income|YR2015|                                               7437|       2773653730|\n",
            "|Upper middle income|YR2016|                                               7558|       2795835267|\n",
            "|Upper middle income|YR2017|                                               7678|       2817780046|\n",
            "|Upper middle income|YR2018|                                               7619|       2837704209|\n",
            "|Upper middle income|YR2019|                                                 65|       2855862780|\n",
            "+-------------------+------+---------------------------------------------------+-----------------+\n",
            "only showing top 20 rows\n",
            "\n"
          ]
        }
      ],
      "metadata": {
        "id": "vTRCm_ZRWw5D",
        "colab": {
          "base_uri": "https://localhost:8080/"
        },
        "outputId": "eb8767cc-824c-4780-86db-b8223e8e70f3"
      }
    },
    {
      "cell_type": "markdown",
      "source": [
        "## 4. Saving results"
      ],
      "metadata": {
        "id": "hgEmabW7oo7f"
      }
    },
    {
      "cell_type": "markdown",
      "source": [
        "Finally, we will save the DataFrames we need in CSV files so that we can use them later."
      ],
      "metadata": {
        "id": "ozQBRzYDdffa"
      }
    },
    {
      "cell_type": "code",
      "execution_count": 137,
      "source": [
        "path_to_save = '/content/drive/MyDrive/Colab_Notebooks/WDI_Project/New_df/'\n",
        "\n",
        "wdi_csdf.write.csv(path_to_save + 'Wdi_csdf.csv', header=True, mode='ignore')\n",
        "country_ind.write.csv(path_to_save + 'Country_ind.csv', header=True, mode='ignore')\n",
        "year_ind.write.csv(path_to_save + 'Year_ind.csv', header=True, mode='ignore')\n",
        "\n",
        "# Save to JSON, because CSV does not support the array<string> data type\n",
        "year_country_ind.write.json(path_to_save + 'year_country_ind.json', mode='ignore')\n",
        "wdi_csdf_years.write.json(path_to_save + 'wdi_csdf_years.json', mode='ignore')"
      ],
      "outputs": [],
      "metadata": {
        "id": "gD5E9IhMkSD0"
      }
    }
  ]
}